{
  "nbformat": 4,
  "nbformat_minor": 0,
  "metadata": {
    "colab": {
      "name": "Text Processing",
      "provenance": []
    },
    "kernelspec": {
      "name": "python3",
      "display_name": "Python 3"
    },
    "language_info": {
      "name": "python"
    }
  },
  "cells": [
    {
      "cell_type": "markdown",
      "metadata": {
        "id": "TNkIqQlh43kr"
      },
      "source": [
        "###Text Processing\n",
        "Text processing is extracting useful features out of the text that's given to us. \n",
        "### Why do we this?\n"
      ]
    },
    {
      "cell_type": "code",
      "metadata": {
        "id": "yQtGQPJE6CKt"
      },
      "source": [
        "import nltk"
      ],
      "execution_count": 36,
      "outputs": []
    },
    {
      "cell_type": "code",
      "metadata": {
        "colab": {
          "base_uri": "https://localhost:8080/"
        },
        "id": "cY05bHsX6FTI",
        "outputId": "8a154e22-3aad-4228-a28e-2ab21ac154c7"
      },
      "source": [
        "nltk.download('brown')"
      ],
      "execution_count": 37,
      "outputs": [
        {
          "output_type": "stream",
          "name": "stdout",
          "text": [
            "[nltk_data] Downloading package brown to /root/nltk_data...\n",
            "[nltk_data]   Package brown is already up-to-date!\n"
          ]
        },
        {
          "output_type": "execute_result",
          "data": {
            "text/plain": [
              "True"
            ]
          },
          "metadata": {},
          "execution_count": 37
        }
      ]
    },
    {
      "cell_type": "code",
      "metadata": {
        "colab": {
          "base_uri": "https://localhost:8080/"
        },
        "id": "OjjNPOPx6Llv",
        "outputId": "8225d949-1c4b-417d-ecc1-b59fee71f5ef"
      },
      "source": [
        "brown.categories()"
      ],
      "execution_count": 38,
      "outputs": [
        {
          "output_type": "execute_result",
          "data": {
            "text/plain": [
              "['adventure',\n",
              " 'belles_lettres',\n",
              " 'editorial',\n",
              " 'fiction',\n",
              " 'government',\n",
              " 'hobbies',\n",
              " 'humor',\n",
              " 'learned',\n",
              " 'lore',\n",
              " 'mystery',\n",
              " 'news',\n",
              " 'religion',\n",
              " 'reviews',\n",
              " 'romance',\n",
              " 'science_fiction']"
            ]
          },
          "metadata": {},
          "execution_count": 38
        }
      ]
    },
    {
      "cell_type": "code",
      "metadata": {
        "colab": {
          "base_uri": "https://localhost:8080/"
        },
        "id": "Dk4926zw689q",
        "outputId": "4815dc88-a46c-4d95-e12a-0888a005b526"
      },
      "source": [
        "brown.words()"
      ],
      "execution_count": 39,
      "outputs": [
        {
          "output_type": "execute_result",
          "data": {
            "text/plain": [
              "['The', 'Fulton', 'County', 'Grand', 'Jury', 'said', ...]"
            ]
          },
          "metadata": {},
          "execution_count": 39
        }
      ]
    },
    {
      "cell_type": "code",
      "metadata": {
        "id": "-oxmElhA6_M5"
      },
      "source": [
        "data = brown.sents(categories = [\"adventure\"])"
      ],
      "execution_count": 40,
      "outputs": []
    },
    {
      "cell_type": "code",
      "metadata": {
        "colab": {
          "base_uri": "https://localhost:8080/"
        },
        "id": "WwrQBcPc7KMp",
        "outputId": "8df31902-2215-445e-9d83-336144ac138c"
      },
      "source": [
        "len(data)"
      ],
      "execution_count": 41,
      "outputs": [
        {
          "output_type": "execute_result",
          "data": {
            "text/plain": [
              "4637"
            ]
          },
          "metadata": {},
          "execution_count": 41
        }
      ]
    },
    {
      "cell_type": "code",
      "metadata": {
        "colab": {
          "base_uri": "https://localhost:8080/"
        },
        "id": "aP7m2lL67Qam",
        "outputId": "a6ab0019-8117-4842-813d-95337eef58ad"
      },
      "source": [
        "data[0]"
      ],
      "execution_count": 42,
      "outputs": [
        {
          "output_type": "execute_result",
          "data": {
            "text/plain": [
              "['Dan',\n",
              " 'Morgan',\n",
              " 'told',\n",
              " 'himself',\n",
              " 'he',\n",
              " 'would',\n",
              " 'forget',\n",
              " 'Ann',\n",
              " 'Turner',\n",
              " '.']"
            ]
          },
          "metadata": {},
          "execution_count": 42
        }
      ]
    },
    {
      "cell_type": "code",
      "metadata": {
        "colab": {
          "base_uri": "https://localhost:8080/",
          "height": 36
        },
        "id": "I2NeuiUj7SsT",
        "outputId": "994a9c93-aa44-499f-a47c-05a64478a95c"
      },
      "source": [
        "\" \".join(data[0])"
      ],
      "execution_count": 43,
      "outputs": [
        {
          "output_type": "execute_result",
          "data": {
            "application/vnd.google.colaboratory.intrinsic+json": {
              "type": "string"
            },
            "text/plain": [
              "'Dan Morgan told himself he would forget Ann Turner .'"
            ]
          },
          "metadata": {},
          "execution_count": 43
        }
      ]
    },
    {
      "cell_type": "code",
      "metadata": {
        "colab": {
          "base_uri": "https://localhost:8080/",
          "height": 36
        },
        "id": "Un9BPnpy7dTi",
        "outputId": "2be5dc60-4329-4319-eece-e51db36ffd2c"
      },
      "source": [
        "\" \".join(data[1])"
      ],
      "execution_count": 44,
      "outputs": [
        {
          "output_type": "execute_result",
          "data": {
            "application/vnd.google.colaboratory.intrinsic+json": {
              "type": "string"
            },
            "text/plain": [
              "'He was well rid of her .'"
            ]
          },
          "metadata": {},
          "execution_count": 44
        }
      ]
    },
    {
      "cell_type": "code",
      "metadata": {
        "colab": {
          "base_uri": "https://localhost:8080/",
          "height": 36
        },
        "id": "b8lSZOTj7mWH",
        "outputId": "b9375343-f457-4b58-f2ba-7cb14098b834"
      },
      "source": [
        "\" \".join(data[3])"
      ],
      "execution_count": 45,
      "outputs": [
        {
          "output_type": "execute_result",
          "data": {
            "application/vnd.google.colaboratory.intrinsic+json": {
              "type": "string"
            },
            "text/plain": [
              "\"If he had married her , he'd have been asking for trouble .\""
            ]
          },
          "metadata": {},
          "execution_count": 45
        }
      ]
    },
    {
      "cell_type": "code",
      "metadata": {
        "colab": {
          "base_uri": "https://localhost:8080/"
        },
        "id": "WuvqnvGB7tpc",
        "outputId": "74387358-b513-4207-bb82-2f7df358fe4a"
      },
      "source": [
        "len(brown.words())"
      ],
      "execution_count": 46,
      "outputs": [
        {
          "output_type": "execute_result",
          "data": {
            "text/plain": [
              "1161192"
            ]
          },
          "metadata": {},
          "execution_count": 46
        }
      ]
    },
    {
      "cell_type": "markdown",
      "metadata": {
        "id": "Qa0aqxra8cW0"
      },
      "source": [
        "##Tokenization"
      ]
    },
    {
      "cell_type": "code",
      "metadata": {
        "id": "QTpjzQK08-Sb"
      },
      "source": [
        "from nltk.tokenize import sent_tokenize, word_tokenize"
      ],
      "execution_count": 47,
      "outputs": []
    },
    {
      "cell_type": "code",
      "metadata": {
        "id": "ETEzyKi69AOk"
      },
      "source": [
        "document = \"\"\" It was a very good movie. The cast was amazing and I liked the story.\n",
        "I went to the movie hall to see it.\n",
        "\"\"\""
      ],
      "execution_count": 16,
      "outputs": []
    },
    {
      "cell_type": "code",
      "metadata": {
        "id": "Xvw4C5Q49GbI"
      },
      "source": [
        "sentence = \"Help this noob with his programming skills, @ee20b037\""
      ],
      "execution_count": 48,
      "outputs": []
    },
    {
      "cell_type": "code",
      "metadata": {
        "colab": {
          "base_uri": "https://localhost:8080/"
        },
        "id": "ysYL1qCr9ZQ8",
        "outputId": "b4640a73-5c52-40f6-d564-23d84a525dee"
      },
      "source": [
        "import nltk\n",
        "nltk.download('punkt')\n",
        "  "
      ],
      "execution_count": 49,
      "outputs": [
        {
          "output_type": "stream",
          "name": "stdout",
          "text": [
            "[nltk_data] Downloading package punkt to /root/nltk_data...\n",
            "[nltk_data]   Package punkt is already up-to-date!\n"
          ]
        },
        {
          "output_type": "execute_result",
          "data": {
            "text/plain": [
              "True"
            ]
          },
          "metadata": {},
          "execution_count": 49
        }
      ]
    },
    {
      "cell_type": "code",
      "metadata": {
        "colab": {
          "base_uri": "https://localhost:8080/"
        },
        "id": "t9wh_4nf9NWn",
        "outputId": "b832f670-9fed-4b32-9083-20b702411aee"
      },
      "source": [
        "sents = sent_tokenize(document)\n",
        "print(sents)\n",
        "len(sents)"
      ],
      "execution_count": 50,
      "outputs": [
        {
          "output_type": "stream",
          "name": "stdout",
          "text": [
            "[' It was a very good movie.', 'The cast was amazing and I liked the story.', 'I went to the movie hall to see it.']\n"
          ]
        },
        {
          "output_type": "execute_result",
          "data": {
            "text/plain": [
              "3"
            ]
          },
          "metadata": {},
          "execution_count": 50
        }
      ]
    },
    {
      "cell_type": "code",
      "metadata": {
        "colab": {
          "base_uri": "https://localhost:8080/"
        },
        "id": "rxvmBePm9eBa",
        "outputId": "4dffb129-0594-413e-9f90-54761d789bd2"
      },
      "source": [
        "words = word_tokenize(sentence) # also break down special characters\n",
        "print(words)\n",
        "print(len(words))"
      ],
      "execution_count": 51,
      "outputs": [
        {
          "output_type": "stream",
          "name": "stdout",
          "text": [
            "['Help', 'this', 'noob', 'with', 'his', 'programming', 'skills', ',', '@', 'ee20b037']\n",
            "10\n"
          ]
        }
      ]
    },
    {
      "cell_type": "markdown",
      "metadata": {
        "id": "L3wMkiR99lWW"
      },
      "source": [
        "## Stopword Removal"
      ]
    },
    {
      "cell_type": "code",
      "metadata": {
        "colab": {
          "base_uri": "https://localhost:8080/"
        },
        "id": "B7HYCCkh9kpu",
        "outputId": "8755b29b-001f-4642-ad53-b71a17d6853f"
      },
      "source": [
        "nltk.download('stopwords')"
      ],
      "execution_count": 52,
      "outputs": [
        {
          "output_type": "stream",
          "name": "stdout",
          "text": [
            "[nltk_data] Downloading package stopwords to /root/nltk_data...\n",
            "[nltk_data]   Package stopwords is already up-to-date!\n"
          ]
        },
        {
          "output_type": "execute_result",
          "data": {
            "text/plain": [
              "True"
            ]
          },
          "metadata": {},
          "execution_count": 52
        }
      ]
    },
    {
      "cell_type": "code",
      "metadata": {
        "id": "exmgM5Wt9r8v"
      },
      "source": [
        "sw = set(stopwords.words('english'))"
      ],
      "execution_count": 53,
      "outputs": []
    },
    {
      "cell_type": "code",
      "metadata": {
        "colab": {
          "base_uri": "https://localhost:8080/"
        },
        "id": "sENrXXmo92Y1",
        "outputId": "48821142-d73a-4d02-9d84-ae4062c69700"
      },
      "source": [
        "text = \"i am not a very good data scientist\".split()\n",
        "print(text)"
      ],
      "execution_count": 54,
      "outputs": [
        {
          "output_type": "stream",
          "name": "stdout",
          "text": [
            "['i', 'am', 'not', 'a', 'very', 'good', 'data', 'scientist']\n"
          ]
        }
      ]
    },
    {
      "cell_type": "code",
      "metadata": {
        "id": "vnz2bf9x9_B-"
      },
      "source": [
        "def remove_stoprwords(text, stopwords):\n",
        "    useful = [w for w in text if w not in stopwords]\n",
        "    return useful"
      ],
      "execution_count": 55,
      "outputs": []
    },
    {
      "cell_type": "code",
      "metadata": {
        "colab": {
          "base_uri": "https://localhost:8080/"
        },
        "id": "SaYSVlA8-DEn",
        "outputId": "97ee0a7e-b044-4133-c79f-e2056b53a606"
      },
      "source": [
        "useful_words = remove_stoprwords(text, sw)\n",
        "useful_words\n"
      ],
      "execution_count": 56,
      "outputs": [
        {
          "output_type": "execute_result",
          "data": {
            "text/plain": [
              "['good', 'data', 'scientist']"
            ]
          },
          "metadata": {},
          "execution_count": 56
        }
      ]
    },
    {
      "cell_type": "code",
      "metadata": {
        "id": "MGwXky-i-D6F"
      },
      "source": [
        "##Tokenization using regex\n",
        "sent = \"My email is ee20b037@smail.iitm.ac.in, please don't spam my inbox\""
      ],
      "execution_count": 57,
      "outputs": []
    },
    {
      "cell_type": "code",
      "metadata": {
        "id": "bJN1LDjD-X7i"
      },
      "source": [
        "from nltk.tokenize import RegexpTokenizer"
      ],
      "execution_count": 58,
      "outputs": []
    },
    {
      "cell_type": "code",
      "metadata": {
        "colab": {
          "base_uri": "https://localhost:8080/"
        },
        "id": "NtQEF8W_-bYN",
        "outputId": "d77ceafb-d6f7-4589-d2f2-e6ab444cb129"
      },
      "source": [
        "tokenizer = RegexpTokenizer('[a-zA-Z@.]+')\n",
        "useful = tokenizer.tokenize(sentence)\n",
        "print(useful)"
      ],
      "execution_count": 59,
      "outputs": [
        {
          "output_type": "stream",
          "name": "stdout",
          "text": [
            "['Help', 'this', 'noob', 'with', 'his', 'programming', 'skills', '@ee', 'b']\n"
          ]
        }
      ]
    },
    {
      "cell_type": "code",
      "metadata": {
        "colab": {
          "base_uri": "https://localhost:8080/",
          "height": 36
        },
        "id": "Ir28BZ8y-g--",
        "outputId": "486b3083-fe7b-4690-eda0-909b70d4b522"
      },
      "source": [
        "##NLTK also provides us with stemmers like Porter, Snowball, Lancaster stemmers\n",
        "from nltk.stem import SnowballStemmer, PorterStemmer, LancasterStemmer\n",
        "ps = PorterStemmer()\n",
        "ps.stem('fapping')"
      ],
      "execution_count": 60,
      "outputs": [
        {
          "output_type": "execute_result",
          "data": {
            "application/vnd.google.colaboratory.intrinsic+json": {
              "type": "string"
            },
            "text/plain": [
              "'fap'"
            ]
          },
          "metadata": {},
          "execution_count": 60
        }
      ]
    },
    {
      "cell_type": "code",
      "metadata": {
        "id": "M-S8DPuu-ytb"
      },
      "source": [
        "# SnowballStemmer = Multilingual, supports other langs also.\n",
        "corpus = [\n",
        "    'Dan Morgan told himself he would forget Ann Turner.',\n",
        "    'Sometimes he woke up in the middle of the night thinking of Ann , and then could not get back to sleep .',\n",
        "    'His plans and dreams had revolved around her so much and for so long that now he felt as if he had nothing .',\n",
        "    'He found that if he was tired enough at night , he went to sleep simply because he was too exhausted to stay awake .'\n",
        "]"
      ],
      "execution_count": 61,
      "outputs": []
    },
    {
      "cell_type": "code",
      "metadata": {
        "id": "53QEkSRL_pts"
      },
      "source": [
        "from sklearn.feature_extraction.text import CountVectorizer\n",
        "\n",
        "cv = CountVectorizer()\n",
        "\n",
        "vc = cv.fit_transform(corpus)\n",
        "\n"
      ],
      "execution_count": 62,
      "outputs": []
    },
    {
      "cell_type": "code",
      "metadata": {
        "colab": {
          "base_uri": "https://localhost:8080/"
        },
        "id": "7IPZnx1d_vgd",
        "outputId": "51aeb3cf-9767-4408-9598-fd3eb4c24bb4"
      },
      "source": [
        "vc = vc.toarray()\n",
        "print(vc)\n",
        "print(cv.vocabulary_)"
      ],
      "execution_count": 63,
      "outputs": [
        {
          "output_type": "stream",
          "name": "stdout",
          "text": [
            "[[0 1 0 0 0 0 0 0 0 1 0 0 0 0 0 1 0 0 0 1 0 1 0 0 0 0 0 1 0 0 0 0 0 0 0 0\n",
            "  0 0 0 0 0 0 0 0 0 0 0 1 0 1 0 0 0 0 1]\n",
            " [1 1 0 0 0 0 1 0 1 0 0 0 0 0 0 0 0 1 0 1 0 0 0 0 1 0 1 0 0 1 1 0 0 2 0 0\n",
            "  0 1 0 1 0 0 2 1 1 0 1 0 0 0 1 0 0 1 0]\n",
            " [2 0 1 1 0 0 0 0 0 0 1 0 0 1 1 0 0 0 2 2 1 0 1 1 0 1 0 0 1 0 0 1 1 0 1 1\n",
            "  0 0 2 0 0 1 0 0 0 0 0 0 0 0 0 0 0 0 0]\n",
            " [0 0 0 0 1 1 0 1 0 0 0 1 1 0 0 0 1 0 0 4 0 0 0 1 0 0 0 0 0 1 0 0 0 0 0 0\n",
            "  1 1 0 0 1 1 0 0 0 1 2 0 1 0 0 2 1 0 0]]\n",
            "{'dan': 9, 'morgan': 27, 'told': 47, 'himself': 21, 'he': 19, 'would': 54, 'forget': 15, 'ann': 1, 'turner': 49, 'sometimes': 39, 'woke': 53, 'up': 50, 'in': 24, 'the': 42, 'middle': 26, 'of': 33, 'night': 29, 'thinking': 44, 'and': 0, 'then': 43, 'could': 8, 'not': 30, 'get': 17, 'back': 6, 'to': 46, 'sleep': 37, 'his': 22, 'plans': 34, 'dreams': 10, 'had': 18, 'revolved': 35, 'around': 2, 'her': 20, 'so': 38, 'much': 28, 'for': 14, 'long': 25, 'that': 41, 'now': 32, 'felt': 13, 'as': 3, 'if': 23, 'nothing': 31, 'found': 16, 'was': 51, 'tired': 45, 'enough': 11, 'at': 4, 'went': 52, 'simply': 36, 'because': 7, 'too': 48, 'exhausted': 12, 'stay': 40, 'awake': 5}\n"
          ]
        }
      ]
    },
    {
      "cell_type": "code",
      "metadata": {
        "colab": {
          "base_uri": "https://localhost:8080/"
        },
        "id": "a4Qwz3Sz_yg8",
        "outputId": "8ed5abaa-0d24-437e-ff77-4dd5c644a4ca"
      },
      "source": [
        "print(len(cv.vocabulary_))"
      ],
      "execution_count": 64,
      "outputs": [
        {
          "output_type": "stream",
          "name": "stdout",
          "text": [
            "55\n"
          ]
        }
      ]
    },
    {
      "cell_type": "code",
      "metadata": {
        "id": "ufUqIK4p_2l7"
      },
      "source": [
        "def myTokenizer(document):\n",
        "    words = tokenizer.tokenize(document.lower())\n",
        "    # remove the stopwords\n",
        "    words = remove_stoprwords(words, sw)\n",
        "    return words"
      ],
      "execution_count": 65,
      "outputs": []
    },
    {
      "cell_type": "code",
      "metadata": {
        "colab": {
          "base_uri": "https://localhost:8080/"
        },
        "id": "XBEtrNfo__VN",
        "outputId": "fd3f756c-f92e-4552-d181-d944424c10b5"
      },
      "source": [
        "myTokenizer('this is a random text')"
      ],
      "execution_count": 66,
      "outputs": [
        {
          "output_type": "execute_result",
          "data": {
            "text/plain": [
              "['random', 'text']"
            ]
          },
          "metadata": {},
          "execution_count": 66
        }
      ]
    },
    {
      "cell_type": "code",
      "metadata": {
        "id": "CS8aiXyRADVr"
      },
      "source": [
        "cv = CountVectorizer(tokenizer=myTokenizer)"
      ],
      "execution_count": 67,
      "outputs": []
    },
    {
      "cell_type": "code",
      "metadata": {
        "colab": {
          "base_uri": "https://localhost:8080/"
        },
        "id": "DmX0Ox_KAESl",
        "outputId": "f1b854c5-e06b-47fc-ad33-c3a28061616b"
      },
      "source": [
        "vc = cv.fit_transform(corpus).toarray()\n",
        "print(vc)"
      ],
      "execution_count": 68,
      "outputs": [
        {
          "output_type": "stream",
          "name": "stdout",
          "text": [
            "[[0 1 0 0 0 0 1 0 0 0 0 1 0 0 0 0 1 0 0 0 0 0 0 0 0 0 0 0 1 1 0 0 1]\n",
            " [1 1 0 0 1 1 0 0 0 0 0 0 0 1 0 1 0 0 1 0 0 0 0 1 1 0 1 0 0 0 0 1 0]\n",
            " [1 0 1 0 0 0 0 1 0 0 1 0 0 0 1 0 0 1 0 1 1 1 0 0 0 0 0 0 0 0 0 0 0]\n",
            " [1 0 0 1 0 0 0 0 1 1 0 0 1 0 0 0 0 0 1 0 0 0 1 1 0 1 0 1 0 0 1 0 0]]\n"
          ]
        }
      ]
    },
    {
      "cell_type": "code",
      "metadata": {
        "colab": {
          "base_uri": "https://localhost:8080/"
        },
        "id": "8sFaQC7oAH5M",
        "outputId": "b6cc61cc-5284-44e5-99a2-2064aa267b49"
      },
      "source": [
        "len(vc[0])\n",
        "cv.vocabulary_"
      ],
      "execution_count": 69,
      "outputs": [
        {
          "output_type": "execute_result",
          "data": {
            "text/plain": [
              "{'.': 0,\n",
              " 'ann': 1,\n",
              " 'around': 2,\n",
              " 'awake': 3,\n",
              " 'back': 4,\n",
              " 'could': 5,\n",
              " 'dan': 6,\n",
              " 'dreams': 7,\n",
              " 'enough': 8,\n",
              " 'exhausted': 9,\n",
              " 'felt': 10,\n",
              " 'forget': 11,\n",
              " 'found': 12,\n",
              " 'get': 13,\n",
              " 'long': 14,\n",
              " 'middle': 15,\n",
              " 'morgan': 16,\n",
              " 'much': 17,\n",
              " 'night': 18,\n",
              " 'nothing': 19,\n",
              " 'plans': 20,\n",
              " 'revolved': 21,\n",
              " 'simply': 22,\n",
              " 'sleep': 23,\n",
              " 'sometimes': 24,\n",
              " 'stay': 25,\n",
              " 'thinking': 26,\n",
              " 'tired': 27,\n",
              " 'told': 28,\n",
              " 'turner.': 29,\n",
              " 'went': 30,\n",
              " 'woke': 31,\n",
              " 'would': 32}"
            ]
          },
          "metadata": {},
          "execution_count": 69
        }
      ]
    },
    {
      "cell_type": "code",
      "metadata": {
        "colab": {
          "base_uri": "https://localhost:8080/"
        },
        "id": "iu63Y2MrAOd9",
        "outputId": "71f258dd-34f6-43ca-aebe-cf1ea8b59ac1"
      },
      "source": [
        "len(cv.transform([sent]).toarray()[0])"
      ],
      "execution_count": 70,
      "outputs": [
        {
          "output_type": "execute_result",
          "data": {
            "text/plain": [
              "33"
            ]
          },
          "metadata": {},
          "execution_count": 70
        }
      ]
    }
  ]
}