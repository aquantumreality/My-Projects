{
  "nbformat": 4,
  "nbformat_minor": 0,
  "metadata": {
    "colab": {
      "name": "SVM.ipynb",
      "provenance": [],
      "collapsed_sections": []
    },
    "kernelspec": {
      "name": "python3",
      "display_name": "Python 3"
    },
    "language_info": {
      "name": "python"
    }
  },
  "cells": [
    {
      "cell_type": "code",
      "metadata": {
        "id": "BngHr0bPnMTB"
      },
      "source": [
        ""
      ],
      "execution_count": null,
      "outputs": []
    },
    {
      "cell_type": "code",
      "metadata": {
        "id": "M4S6p-Q4TJB3"
      },
      "source": [
        "import numpy as np\n",
        "import matplotlib.pyplot as plt\n",
        "\n",
        "x = np.linspace(-5.0, 5.0, 100) \n",
        "y = np.sqrt(15**2 - x**2)\n",
        "y=np.hstack([y,-y]) # np.hstack stacks arrays of the points in a sequence horizontally (column wise).\n",
        "x=np.hstack([x,-x])"
      ],
      "execution_count": 2,
      "outputs": []
    },
    {
      "cell_type": "code",
      "metadata": {
        "id": "ihqQYRnBTTmY"
      },
      "source": [
        "x1 = np.linspace(-5.0, 5.0, 100)\n",
        "y1 = np.sqrt(5**2 - x1**2)\n",
        "y1=np.hstack([y1,-y1])\n",
        "x1=np.hstack([x1,-x1])"
      ],
      "execution_count": 3,
      "outputs": []
    },
    {
      "cell_type": "code",
      "metadata": {
        "colab": {
          "base_uri": "https://localhost:8080/",
          "height": 283
        },
        "id": "CP_rBtRMTc6K",
        "outputId": "71cd11a3-8d53-47de-cf60-544f88827969"
      },
      "source": [
        "plt.scatter(y,x)\n",
        "plt.scatter(y1,x1)"
      ],
      "execution_count": 4,
      "outputs": [
        {
          "output_type": "execute_result",
          "data": {
            "text/plain": [
              "<matplotlib.collections.PathCollection at 0x7fd6ccbb96d0>"
            ]
          },
          "metadata": {
            "tags": []
          },
          "execution_count": 4
        },
        {
          "output_type": "display_data",
          "data": {
            "image/png": "[encoded data removed]",
            "text/plain": [
              "<Figure size 432x288 with 1 Axes>"
            ]
          },
          "metadata": {
            "tags": [],
            "needs_background": "light"
          }
        }
      ]
    },
    {
      "cell_type": "code",
      "metadata": {
        "colab": {
          "base_uri": "https://localhost:8080/",
          "height": 206
        },
        "id": "HvLZMIMQTiW4",
        "outputId": "3a524e13-8406-40f8-a37f-402b2df47621"
      },
      "source": [
        "import pandas as pd\n",
        "df1 =pd.DataFrame(np.vstack([y,x]).T,columns=['X1','X2']) # tabulating the data\n",
        "df1['Y']=0\n",
        "df2 =pd.DataFrame(np.vstack([y1,x1]).T,columns=['X1','X2'])\n",
        "df2['Y']=1\n",
        "df = df1.append(df2)\n",
        "df.head(5)"
      ],
      "execution_count": 5,
      "outputs": [
        {
          "output_type": "execute_result",
          "data": {
            "text/html": [
              "<div>\n",
              "<style scoped>\n",
              "    .dataframe tbody tr th:only-of-type {\n",
              "        vertical-align: middle;\n",
              "    }\n",
              "\n",
              "    .dataframe tbody tr th {\n",
              "        vertical-align: top;\n",
              "    }\n",
              "\n",
              "    .dataframe thead th {\n",
              "        text-align: right;\n",
              "    }\n",
              "</style>\n",
              "<table border=\"1\" class=\"dataframe\">\n",
              "  <thead>\n",
              "    <tr style=\"text-align: right;\">\n",
              "      <th></th>\n",
              "      <th>X1</th>\n",
              "      <th>X2</th>\n",
              "      <th>Y</th>\n",
              "    </tr>\n",
              "  </thead>\n",
              "  <tbody>\n",
              "    <tr>\n",
              "      <th>0</th>\n",
              "      <td>14.142136</td>\n",
              "      <td>-5.00000</td>\n",
              "      <td>0</td>\n",
              "    </tr>\n",
              "    <tr>\n",
              "      <th>1</th>\n",
              "      <td>14.177443</td>\n",
              "      <td>-4.89899</td>\n",
              "      <td>0</td>\n",
              "    </tr>\n",
              "    <tr>\n",
              "      <th>2</th>\n",
              "      <td>14.211945</td>\n",
              "      <td>-4.79798</td>\n",
              "      <td>0</td>\n",
              "    </tr>\n",
              "    <tr>\n",
              "      <th>3</th>\n",
              "      <td>14.245648</td>\n",
              "      <td>-4.69697</td>\n",
              "      <td>0</td>\n",
              "    </tr>\n",
              "    <tr>\n",
              "      <th>4</th>\n",
              "      <td>14.278556</td>\n",
              "      <td>-4.59596</td>\n",
              "      <td>0</td>\n",
              "    </tr>\n",
              "  </tbody>\n",
              "</table>\n",
              "</div>"
            ],
            "text/plain": [
              "          X1       X2  Y\n",
              "0  14.142136 -5.00000  0\n",
              "1  14.177443 -4.89899  0\n",
              "2  14.211945 -4.79798  0\n",
              "3  14.245648 -4.69697  0\n",
              "4  14.278556 -4.59596  0"
            ]
          },
          "metadata": {
            "tags": []
          },
          "execution_count": 5
        }
      ]
    },
    {
      "cell_type": "code",
      "metadata": {
        "colab": {
          "base_uri": "https://localhost:8080/"
        },
        "id": "gAJP7RguTsPa",
        "outputId": "65789075-001b-4340-a8bc-e09e1273e1d6"
      },
      "source": [
        "# Independent and Dependent features\n",
        "X = df.iloc[:, :2]  # selecting multiple rows and the first two columns\n",
        "y = df.Y\n",
        "y"
      ],
      "execution_count": 9,
      "outputs": [
        {
          "output_type": "execute_result",
          "data": {
            "text/plain": [
              "0      0\n",
              "1      0\n",
              "2      0\n",
              "3      0\n",
              "4      0\n",
              "      ..\n",
              "195    1\n",
              "196    1\n",
              "197    1\n",
              "198    1\n",
              "199    1\n",
              "Name: Y, Length: 400, dtype: int64"
            ]
          },
          "metadata": {
            "tags": []
          },
          "execution_count": 9
        }
      ]
    },
    {
      "cell_type": "code",
      "metadata": {
        "colab": {
          "base_uri": "https://localhost:8080/"
        },
        "id": "LVe7d_ioTwJx",
        "outputId": "f4de78cd-78e3-4351-c2f1-0660ed03b8c3"
      },
      "source": [
        "# Split the dataset into train and test\n",
        "from sklearn.model_selection import train_test_split\n",
        "X_train,X_test,y_train,y_test=train_test_split(X,y,test_size=0.20,random_state=0)\n",
        "y_train"
      ],
      "execution_count": 11,
      "outputs": [
        {
          "output_type": "execute_result",
          "data": {
            "text/plain": [
              "136    1\n",
              "64     0\n",
              "55     0\n",
              "106    0\n",
              "100    1\n",
              "      ..\n",
              "123    1\n",
              "192    0\n",
              "117    0\n",
              "47     0\n",
              "172    0\n",
              "Name: Y, Length: 320, dtype: int64"
            ]
          },
          "metadata": {
            "tags": []
          },
          "execution_count": 11
        }
      ]
    },
    {
      "cell_type": "code",
      "metadata": {
        "colab": {
          "base_uri": "https://localhost:8080/"
        },
        "id": "eeDUzBfOURPH",
        "outputId": "71912c12-ac46-4ffa-badb-abd36ff090c8"
      },
      "source": [
        "from sklearn.svm import SVC\n",
        "classifier=SVC(kernel=\"linear\")\n",
        "classifier.fit(X_train,y_train)\n",
        "from sklearn.metrics import accuracy_score\n",
        "y_pred = classifier.predict(X_test)\n",
        "accuracy_score(y_test, y_pred)*100"
      ],
      "execution_count": 12,
      "outputs": [
        {
          "output_type": "execute_result",
          "data": {
            "text/plain": [
              "41.25"
            ]
          },
          "metadata": {
            "tags": []
          },
          "execution_count": 12
        }
      ]
    },
    {
      "cell_type": "markdown",
      "metadata": {
        "id": "CkY5bYaqUZkO"
      },
      "source": [
        "Using Linear kernel on such a data gives us a low accuracy score, let us increase the features now and apply an rbf/polynomial kernel. "
      ]
    },
    {
      "cell_type": "code",
      "metadata": {
        "colab": {
          "base_uri": "https://localhost:8080/"
        },
        "id": "98SsWcuzUnfa",
        "outputId": "ac8213b4-f074-478a-8fe7-514632a1ad1a"
      },
      "source": [
        "from sklearn.svm import SVC\n",
        "classifier=SVC(kernel=\"rbf\")\n",
        "classifier.fit(X_train,y_train)\n",
        "from sklearn.metrics import accuracy_score\n",
        "y_pred = classifier.predict(X_test)\n",
        "accuracy_score(y_test, y_pred)*100"
      ],
      "execution_count": 13,
      "outputs": [
        {
          "output_type": "execute_result",
          "data": {
            "text/plain": [
              "100.0"
            ]
          },
          "metadata": {
            "tags": []
          },
          "execution_count": 13
        }
      ]
    },
    {
      "cell_type": "markdown",
      "metadata": {
        "id": "bWp4ehyDUq9j"
      },
      "source": [
        "The rbf kernel on such a data gives a very good accuracy score. \n",
        "\n",
        "  Let's try using a Polynomial Kernel now."
      ]
    },
    {
      "cell_type": "code",
      "metadata": {
        "colab": {
          "base_uri": "https://localhost:8080/",
          "height": 206
        },
        "id": "M-eoKbJqU6Vw",
        "outputId": "9a9f7b83-25c8-4d78-8e5b-1268eaf9772f"
      },
      "source": [
        "# Finding all the second degree components for a polynomial kernel like X1^2, X2^2, and X1X2\n",
        "df['X1_Square']= df['X1']**2\n",
        "df['X2_Square']= df['X2']**2\n",
        "df['X1*X2'] = (df['X1'] *df['X2'])\n",
        "df.head()"
      ],
      "execution_count": 14,
      "outputs": [
        {
          "output_type": "execute_result",
          "data": {
            "text/html": [
              "<div>\n",
              "<style scoped>\n",
              "    .dataframe tbody tr th:only-of-type {\n",
              "        vertical-align: middle;\n",
              "    }\n",
              "\n",
              "    .dataframe tbody tr th {\n",
              "        vertical-align: top;\n",
              "    }\n",
              "\n",
              "    .dataframe thead th {\n",
              "        text-align: right;\n",
              "    }\n",
              "</style>\n",
              "<table border=\"1\" class=\"dataframe\">\n",
              "  <thead>\n",
              "    <tr style=\"text-align: right;\">\n",
              "      <th></th>\n",
              "      <th>X1</th>\n",
              "      <th>X2</th>\n",
              "      <th>Y</th>\n",
              "      <th>X1_Square</th>\n",
              "      <th>X2_Square</th>\n",
              "      <th>X1*X2</th>\n",
              "    </tr>\n",
              "  </thead>\n",
              "  <tbody>\n",
              "    <tr>\n",
              "      <th>0</th>\n",
              "      <td>14.142136</td>\n",
              "      <td>-5.00000</td>\n",
              "      <td>0</td>\n",
              "      <td>200.000000</td>\n",
              "      <td>25.000000</td>\n",
              "      <td>-70.710678</td>\n",
              "    </tr>\n",
              "    <tr>\n",
              "      <th>1</th>\n",
              "      <td>14.177443</td>\n",
              "      <td>-4.89899</td>\n",
              "      <td>0</td>\n",
              "      <td>200.999898</td>\n",
              "      <td>24.000102</td>\n",
              "      <td>-69.455151</td>\n",
              "    </tr>\n",
              "    <tr>\n",
              "      <th>2</th>\n",
              "      <td>14.211945</td>\n",
              "      <td>-4.79798</td>\n",
              "      <td>0</td>\n",
              "      <td>201.979390</td>\n",
              "      <td>23.020610</td>\n",
              "      <td>-68.188627</td>\n",
              "    </tr>\n",
              "    <tr>\n",
              "      <th>3</th>\n",
              "      <td>14.245648</td>\n",
              "      <td>-4.69697</td>\n",
              "      <td>0</td>\n",
              "      <td>202.938476</td>\n",
              "      <td>22.061524</td>\n",
              "      <td>-66.911375</td>\n",
              "    </tr>\n",
              "    <tr>\n",
              "      <th>4</th>\n",
              "      <td>14.278556</td>\n",
              "      <td>-4.59596</td>\n",
              "      <td>0</td>\n",
              "      <td>203.877155</td>\n",
              "      <td>21.122845</td>\n",
              "      <td>-65.623665</td>\n",
              "    </tr>\n",
              "  </tbody>\n",
              "</table>\n",
              "</div>"
            ],
            "text/plain": [
              "          X1       X2  Y   X1_Square  X2_Square      X1*X2\n",
              "0  14.142136 -5.00000  0  200.000000  25.000000 -70.710678\n",
              "1  14.177443 -4.89899  0  200.999898  24.000102 -69.455151\n",
              "2  14.211945 -4.79798  0  201.979390  23.020610 -68.188627\n",
              "3  14.245648 -4.69697  0  202.938476  22.061524 -66.911375\n",
              "4  14.278556 -4.59596  0  203.877155  21.122845 -65.623665"
            ]
          },
          "metadata": {
            "tags": []
          },
          "execution_count": 14
        }
      ]
    },
    {
      "cell_type": "code",
      "metadata": {
        "colab": {
          "base_uri": "https://localhost:8080/"
        },
        "id": "fWe7fIsJVKLr",
        "outputId": "03465fdf-0c08-4d19-b326-9bd3cf352a39"
      },
      "source": [
        "X = df[['X1','X2','X1_Square','X2_Square','X1*X2']]\n",
        "y = df['Y']\n",
        "y"
      ],
      "execution_count": 15,
      "outputs": [
        {
          "output_type": "execute_result",
          "data": {
            "text/plain": [
              "0      0\n",
              "1      0\n",
              "2      0\n",
              "3      0\n",
              "4      0\n",
              "      ..\n",
              "195    1\n",
              "196    1\n",
              "197    1\n",
              "198    1\n",
              "199    1\n",
              "Name: Y, Length: 400, dtype: int64"
            ]
          },
          "metadata": {
            "tags": []
          },
          "execution_count": 15
        }
      ]
    },
    {
      "cell_type": "code",
      "metadata": {
        "colab": {
          "base_uri": "https://localhost:8080/",
          "height": 424
        },
        "id": "MMoGggq9VORR",
        "outputId": "13eede69-3be9-4fd2-e633-b79348906381"
      },
      "source": [
        "X_train, X_test, y_train, y_test = train_test_split(X, y, test_size = 0.20, random_state = 0)\n",
        "X_train"
      ],
      "execution_count": 16,
      "outputs": [
        {
          "output_type": "execute_result",
          "data": {
            "text/html": [
              "<div>\n",
              "<style scoped>\n",
              "    .dataframe tbody tr th:only-of-type {\n",
              "        vertical-align: middle;\n",
              "    }\n",
              "\n",
              "    .dataframe tbody tr th {\n",
              "        vertical-align: top;\n",
              "    }\n",
              "\n",
              "    .dataframe thead th {\n",
              "        text-align: right;\n",
              "    }\n",
              "</style>\n",
              "<table border=\"1\" class=\"dataframe\">\n",
              "  <thead>\n",
              "    <tr style=\"text-align: right;\">\n",
              "      <th></th>\n",
              "      <th>X1</th>\n",
              "      <th>X2</th>\n",
              "      <th>X1_Square</th>\n",
              "      <th>X2_Square</th>\n",
              "      <th>X1*X2</th>\n",
              "    </tr>\n",
              "  </thead>\n",
              "  <tbody>\n",
              "    <tr>\n",
              "      <th>136</th>\n",
              "      <td>-4.810457</td>\n",
              "      <td>1.363636</td>\n",
              "      <td>23.140496</td>\n",
              "      <td>1.859504</td>\n",
              "      <td>-6.559714</td>\n",
              "    </tr>\n",
              "    <tr>\n",
              "      <th>64</th>\n",
              "      <td>14.928322</td>\n",
              "      <td>1.464646</td>\n",
              "      <td>222.854811</td>\n",
              "      <td>2.145189</td>\n",
              "      <td>21.864715</td>\n",
              "    </tr>\n",
              "    <tr>\n",
              "      <th>55</th>\n",
              "      <td>14.989708</td>\n",
              "      <td>0.555556</td>\n",
              "      <td>224.691358</td>\n",
              "      <td>0.308642</td>\n",
              "      <td>8.327616</td>\n",
              "    </tr>\n",
              "    <tr>\n",
              "      <th>106</th>\n",
              "      <td>-14.342012</td>\n",
              "      <td>4.393939</td>\n",
              "      <td>205.693297</td>\n",
              "      <td>19.306703</td>\n",
              "      <td>-63.017930</td>\n",
              "    </tr>\n",
              "    <tr>\n",
              "      <th>100</th>\n",
              "      <td>-0.000000</td>\n",
              "      <td>5.000000</td>\n",
              "      <td>0.000000</td>\n",
              "      <td>25.000000</td>\n",
              "      <td>-0.000000</td>\n",
              "    </tr>\n",
              "    <tr>\n",
              "      <th>...</th>\n",
              "      <td>...</td>\n",
              "      <td>...</td>\n",
              "      <td>...</td>\n",
              "      <td>...</td>\n",
              "      <td>...</td>\n",
              "    </tr>\n",
              "    <tr>\n",
              "      <th>123</th>\n",
              "      <td>-4.223140</td>\n",
              "      <td>2.676768</td>\n",
              "      <td>17.834915</td>\n",
              "      <td>7.165085</td>\n",
              "      <td>-11.304366</td>\n",
              "    </tr>\n",
              "    <tr>\n",
              "      <th>192</th>\n",
              "      <td>-14.372570</td>\n",
              "      <td>-4.292929</td>\n",
              "      <td>206.570758</td>\n",
              "      <td>18.429242</td>\n",
              "      <td>61.700425</td>\n",
              "    </tr>\n",
              "    <tr>\n",
              "      <th>117</th>\n",
              "      <td>-14.636360</td>\n",
              "      <td>3.282828</td>\n",
              "      <td>214.223038</td>\n",
              "      <td>10.776962</td>\n",
              "      <td>-48.048657</td>\n",
              "    </tr>\n",
              "    <tr>\n",
              "      <th>47</th>\n",
              "      <td>14.997874</td>\n",
              "      <td>-0.252525</td>\n",
              "      <td>224.936231</td>\n",
              "      <td>0.063769</td>\n",
              "      <td>-3.787342</td>\n",
              "    </tr>\n",
              "    <tr>\n",
              "      <th>172</th>\n",
              "      <td>-14.826824</td>\n",
              "      <td>-2.272727</td>\n",
              "      <td>219.834711</td>\n",
              "      <td>5.165289</td>\n",
              "      <td>33.697327</td>\n",
              "    </tr>\n",
              "  </tbody>\n",
              "</table>\n",
              "<p>320 rows × 5 columns</p>\n",
              "</div>"
            ],
            "text/plain": [
              "            X1        X2   X1_Square  X2_Square      X1*X2\n",
              "136  -4.810457  1.363636   23.140496   1.859504  -6.559714\n",
              "64   14.928322  1.464646  222.854811   2.145189  21.864715\n",
              "55   14.989708  0.555556  224.691358   0.308642   8.327616\n",
              "106 -14.342012  4.393939  205.693297  19.306703 -63.017930\n",
              "100  -0.000000  5.000000    0.000000  25.000000  -0.000000\n",
              "..         ...       ...         ...        ...        ...\n",
              "123  -4.223140  2.676768   17.834915   7.165085 -11.304366\n",
              "192 -14.372570 -4.292929  206.570758  18.429242  61.700425\n",
              "117 -14.636360  3.282828  214.223038  10.776962 -48.048657\n",
              "47   14.997874 -0.252525  224.936231   0.063769  -3.787342\n",
              "172 -14.826824 -2.272727  219.834711   5.165289  33.697327\n",
              "\n",
              "[320 rows x 5 columns]"
            ]
          },
          "metadata": {
            "tags": []
          },
          "execution_count": 16
        }
      ]
    },
    {
      "cell_type": "code",
      "metadata": {
        "colab": {
          "base_uri": "https://localhost:8080/",
          "height": 542
        },
        "id": "0jaF1CdSowwE",
        "outputId": "2116ae97-1c81-464d-d23f-469c349c0079"
      },
      "source": [
        "import plotly.express as px\n",
        "\n",
        "fig = px.scatter_3d(df, x='X1', y='X2', z='X1*X2',\n",
        "              color='Y')\n",
        "fig.show()"
      ],
      "execution_count": 17,
      "outputs": [
        {
          "output_type": "display_data",
          "data": {
            "text/html": [
              "<html>\n",
              "<head><meta charset=\"utf-8\" /></head>\n",
              "<body>\n",
              "    <div>\n",
              "            <script src=\"https://cdnjs.cloudflare.com/ajax/libs/mathjax/2.7.5/MathJax.js?config=TeX-AMS-MML_SVG\"></script><script type=\"text/javascript\">if (window.MathJax) {MathJax.Hub.Config({SVG: {font: \"STIX-Web\"}});}</script>\n",
              "                <script type=\"text/javascript\">window.PlotlyConfig = {MathJaxConfig: 'local'};</script>\n",
              "        <script src=\"https://cdn.plot.ly/plotly-latest.min.js\"></script>    \n",
              "            <div id=\"59276168-152a-418c-9e21-8d1e2296f5b0\" class=\"plotly-graph-div\" style=\"height:525px; width:100%;\"></div>\n",
              "            <script type=\"text/javascript\">\n",
              "                \n",
              "                    window.PLOTLYENV=window.PLOTLYENV || {};\n",
              "                    \n",
              "                if (document.getElementById(\"59276168-152a-418c-9e21-8d1e2296f5b0\")) {\n",
              "                    Plotly.newPlot(\n",
              "                        '59276168-152a-418c-9e21-8d1e2296f5b0',\n",
              "                        [{\"hoverlabel\": {\"namelength\": 0}, \"hovertemplate\": \"X1=%{x}<br>X2=%{y}<br>X1*X2=%{z}<br>Y=%{marker.color}\", \"legendgroup\": \"\", \"marker\": {\"color\": [0, 0, 0, 0, 0, 0, 0, 0, 0, 0, 0, 0, 0, 0, 0, 0, 0, 0, 0, 0, 0, 0, 0, 0, 0, 0, 0, 0, 0, 0, 0, 0, 0, 0, 0, 0, 0, 0, 0, 0, 0, 0, 0, 0, 0, 0, 0, 0, 0, 0, 0, 0, 0, 0, 0, 0, 0, 0, 0, 0, 0, 0, 0, 0, 0, 0, 0, 0, 0, 0, 0, 0, 0, 0, 0, 0, 0, 0, 0, 0, 0, 0, 0, 0, 0, 0, 0, 0, 0, 0, 0, 0, 0, 0, 0, 0, 0, 0, 0, 0, 0, 0, 0, 0, 0, 0, 0, 0, 0, 0, 0, 0, 0, 0, 0, 0, 0, 0, 0, 0, 0, 0, 0, 0, 0, 0, 0, 0, 0, 0, 0, 0, 0, 0, 0, 0, 0, 0, 0, 0, 0, 0, 0, 0, 0, 0, 0, 0, 0, 0, 0, 0, 0, 0, 0, 0, 0, 0, 0, 0, 0, 0, 0, 0, 0, 0, 0, 0, 0, 0, 0, 0, 0, 0, 0, 0, 0, 0, 0, 0, 0, 0, 0, 0, 0, 0, 0, 0, 0, 0, 0, 0, 0, 0, 0, 0, 0, 0, 0, 0, 1, 1, 1, 1, 1, 1, 1, 1, 1, 1, 1, 1, 1, 1, 1, 1, 1, 1, 1, 1, 1, 1, 1, 1, 1, 1, 1, 1, 1, 1, 1, 1, 1, 1, 1, 1, 1, 1, 1, 1, 1, 1, 1, 1, 1, 1, 1, 1, 1, 1, 1, 1, 1, 1, 1, 1, 1, 1, 1, 1, 1, 1, 1, 1, 1, 1, 1, 1, 1, 1, 1, 1, 1, 1, 1, 1, 1, 1, 1, 1, 1, 1, 1, 1, 1, 1, 1, 1, 1, 1, 1, 1, 1, 1, 1, 1, 1, 1, 1, 1, 1, 1, 1, 1, 1, 1, 1, 1, 1, 1, 1, 1, 1, 1, 1, 1, 1, 1, 1, 1, 1, 1, 1, 1, 1, 1, 1, 1, 1, 1, 1, 1, 1, 1, 1, 1, 1, 1, 1, 1, 1, 1, 1, 1, 1, 1, 1, 1, 1, 1, 1, 1, 1, 1, 1, 1, 1, 1, 1, 1, 1, 1, 1, 1, 1, 1, 1, 1, 1, 1, 1, 1, 1, 1, 1, 1, 1, 1, 1, 1, 1, 1, 1, 1, 1, 1, 1, 1, 1, 1, 1, 1, 1, 1, 1, 1, 1, 1, 1, 1], \"coloraxis\": \"coloraxis\", \"symbol\": \"circle\"}, \"mode\": \"markers\", \"name\": \"\", \"scene\": \"scene\", \"showlegend\": false, \"type\": \"scatter3d\", \"x\": [14.142135623730951, 14.177443280422423, 14.211945322797218, 14.245647604294737, 14.278555788044773, 14.310675352262495, 14.342011595393009, 14.372569641017908, 14.402354442535414, 14.43137078762504, 14.459623302506985, 14.487116456005886, 14.513854563427936, 14.539841790259864, 14.565082155697723, 14.589579536012996, 14.613337667763037, 14.63636015085249, 14.658650451451908, 14.680211904779428, 14.701047717751, 14.721160971504387, 14.740554623801778, 14.759231511315614, 14.777194351801949, 14.794445746165383, 14.810988180419374, 14.826824027545536, 14.841955549255252, 14.856384897656756, 14.870114116830663, 14.883145144316682, 14.895479812514123, 14.907119849998598, 14.918066882757179, 14.928322435344121, 14.937887931959077, 14.946764697449627, 14.954953958239797, 14.962456843186072, 14.96927438436236, 14.975407517775148, 14.980857084010031, 14.985623828810681, 14.989708403591157, 14.993111365882402, 14.995833179713644, 14.997874215929304, 14.999234752441916, 14.99991497442147, 14.99991497442147, 14.999234752441916, 14.997874215929304, 14.995833179713644, 14.993111365882402, 14.989708403591157, 14.985623828810681, 14.980857084010031, 14.975407517775148, 14.96927438436236, 14.962456843186072, 14.954953958239797, 14.946764697449627, 14.937887931959077, 14.928322435344121, 14.918066882757179, 14.907119849998598, 14.895479812514123, 14.883145144316682, 14.870114116830663, 14.856384897656756, 14.841955549255252, 14.826824027545536, 14.810988180419374, 14.794445746165383, 14.777194351801949, 14.759231511315614, 14.740554623801778, 14.721160971504387, 14.701047717751, 14.680211904779426, 14.658650451451908, 14.63636015085249, 14.613337667763037, 14.589579536012996, 14.565082155697723, 14.539841790259864, 14.513854563427936, 14.487116456005886, 14.459623302506985, 14.43137078762504, 14.402354442535414, 14.372569641017908, 14.342011595393009, 14.310675352262495, 14.278555788044773, 14.245647604294737, 14.211945322797218, 14.177443280422423, 14.142135623730951, -14.142135623730951, -14.177443280422423, -14.211945322797218, -14.245647604294737, -14.278555788044773, -14.310675352262495, -14.342011595393009, -14.372569641017908, -14.402354442535414, -14.43137078762504, -14.459623302506985, -14.487116456005886, -14.513854563427936, -14.539841790259864, -14.565082155697723, -14.589579536012996, -14.613337667763037, -14.63636015085249, -14.658650451451908, -14.680211904779428, -14.701047717751, -14.721160971504387, -14.740554623801778, -14.759231511315614, -14.777194351801949, -14.794445746165383, -14.810988180419374, -14.826824027545536, -14.841955549255252, -14.856384897656756, -14.870114116830663, -14.883145144316682, -14.895479812514123, -14.907119849998598, -14.918066882757179, -14.928322435344121, -14.937887931959077, -14.946764697449627, -14.954953958239797, -14.962456843186072, -14.96927438436236, -14.975407517775148, -14.980857084010031, -14.985623828810681, -14.989708403591157, -14.993111365882402, -14.995833179713644, -14.997874215929304, -14.999234752441916, -14.99991497442147, -14.99991497442147, -14.999234752441916, -14.997874215929304, -14.995833179713644, -14.993111365882402, -14.989708403591157, -14.985623828810681, -14.980857084010031, -14.975407517775148, -14.96927438436236, -14.962456843186072, -14.954953958239797, -14.946764697449627, -14.937887931959077, -14.928322435344121, -14.918066882757179, -14.907119849998598, -14.895479812514123, -14.883145144316682, -14.870114116830663, -14.856384897656756, -14.841955549255252, -14.826824027545536, -14.810988180419374, -14.794445746165383, -14.777194351801949, -14.759231511315614, -14.740554623801778, -14.721160971504387, -14.701047717751, -14.680211904779426, -14.658650451451908, -14.63636015085249, -14.613337667763037, -14.589579536012996, -14.565082155697723, -14.539841790259864, -14.513854563427936, -14.487116456005886, -14.459623302506985, -14.43137078762504, -14.402354442535414, -14.372569641017908, -14.342011595393009, -14.310675352262495, -14.278555788044773, -14.245647604294737, -14.211945322797218, -14.177443280422423, -14.142135623730951, 0.0, 0.9999489834961283, 1.4069079067862758, 1.714198257421933, 1.9690493625876693, 2.1898468069372528, 2.386062992124792, 2.5633489980706097, 2.7254015279256647, 2.8747978728803445, 3.013420987914404, 3.1426968052735447, 3.263736246748184, 3.3774249489495936, 3.484482487002089, 3.5855028988482522, 3.6809832643007265, 3.771344384362519, 3.85694607919935, 3.938098725175339, 4.015072103909453, 4.0881022918884975, 4.15739709641549, 4.2231403960337115, 4.2854956435548335, 4.3446087207285995, 4.400610285008478, 4.453617714151233, 4.5037367292137285, 4.5510627580076, 4.59568208730397, 4.637672841716766, 4.677105819309182, 4.714045207910317, 4.748549201431579, 4.78067053179767, 4.810456929208347, 4.837951521142646, 4.863193178670999, 4.886216817150636, 4.907053657168129, 4.92573145060065, 4.9422746758485125, 4.956704705610221, 4.969039949999533, 4.979295977319692, 4.987485614395357, 4.9936190280033435, 4.997703788627468, 4.999744917480639, 4.999744917480639, 4.997703788627468, 4.9936190280033435, 4.987485614395357, 4.979295977319692, 4.969039949999533, 4.956704705610221, 4.9422746758485125, 4.92573145060065, 4.907053657168129, 4.886216817150636, 4.863193178670999, 4.837951521142646, 4.810456929208347, 4.78067053179767, 4.748549201431579, 4.714045207910317, 4.677105819309182, 4.637672841716766, 4.59568208730397, 4.5510627580076, 4.5037367292137285, 4.453617714151233, 4.400610285008478, 4.3446087207285995, 4.2854956435548335, 4.223140396033712, 4.15739709641549, 4.0881022918884975, 4.0150721039094535, 3.9380987251753385, 3.85694607919935, 3.7713443843625196, 3.6809832643007265, 3.5855028988482527, 3.4844824870020883, 3.3774249489495936, 3.263736246748185, 3.1426968052735442, 3.013420987914404, 2.874797872880346, 2.7254015279256647, 2.563348998070611, 2.38606299212479, 2.1898468069372528, 1.9690493625876713, 1.714198257421933, 1.4069079067862758, 0.9999489834961247, 0.0, -0.0, -0.9999489834961283, -1.4069079067862758, -1.714198257421933, -1.9690493625876693, -2.1898468069372528, -2.386062992124792, -2.5633489980706097, -2.7254015279256647, -2.8747978728803445, -3.013420987914404, -3.1426968052735447, -3.263736246748184, -3.3774249489495936, -3.484482487002089, -3.5855028988482522, -3.6809832643007265, -3.771344384362519, -3.85694607919935, -3.938098725175339, -4.015072103909453, -4.0881022918884975, -4.15739709641549, -4.2231403960337115, -4.2854956435548335, -4.3446087207285995, -4.400610285008478, -4.453617714151233, -4.5037367292137285, -4.5510627580076, -4.59568208730397, -4.637672841716766, -4.677105819309182, -4.714045207910317, -4.748549201431579, -4.78067053179767, -4.810456929208347, -4.837951521142646, -4.863193178670999, -4.886216817150636, -4.907053657168129, -4.92573145060065, -4.9422746758485125, -4.956704705610221, -4.969039949999533, -4.979295977319692, -4.987485614395357, -4.9936190280033435, -4.997703788627468, -4.999744917480639, -4.999744917480639, -4.997703788627468, -4.9936190280033435, -4.987485614395357, -4.979295977319692, -4.969039949999533, -4.956704705610221, -4.9422746758485125, -4.92573145060065, -4.907053657168129, -4.886216817150636, -4.863193178670999, -4.837951521142646, -4.810456929208347, -4.78067053179767, -4.748549201431579, -4.714045207910317, -4.677105819309182, -4.637672841716766, -4.59568208730397, -4.5510627580076, -4.5037367292137285, -4.453617714151233, -4.400610285008478, -4.3446087207285995, -4.2854956435548335, -4.223140396033712, -4.15739709641549, -4.0881022918884975, -4.0150721039094535, -3.9380987251753385, -3.85694607919935, -3.7713443843625196, -3.6809832643007265, -3.5855028988482527, -3.4844824870020883, -3.3774249489495936, -3.263736246748185, -3.1426968052735442, -3.013420987914404, -2.874797872880346, -2.7254015279256647, -2.563348998070611, -2.38606299212479, -2.1898468069372528, -1.9690493625876713, -1.714198257421933, -1.4069079067862758, -0.9999489834961247, -0.0], \"y\": [-5.0, -4.898989898989899, -4.797979797979798, -4.696969696969697, -4.595959595959596, -4.494949494949495, -4.393939393939394, -4.292929292929293, -4.191919191919192, -4.090909090909091, -3.9898989898989896, -3.888888888888889, -3.787878787878788, -3.686868686868687, -3.5858585858585856, -3.484848484848485, -3.383838383838384, -3.282828282828283, -3.1818181818181817, -3.080808080808081, -2.9797979797979797, -2.878787878787879, -2.7777777777777777, -2.676767676767677, -2.5757575757575757, -2.474747474747475, -2.3737373737373737, -2.272727272727273, -2.1717171717171717, -2.070707070707071, -1.9696969696969697, -1.868686868686869, -1.7676767676767677, -1.6666666666666665, -1.5656565656565657, -1.4646464646464645, -1.3636363636363638, -1.2626262626262625, -1.1616161616161618, -1.0606060606060606, -0.9595959595959593, -0.858585858585859, -0.7575757575757578, -0.6565656565656566, -0.5555555555555554, -0.45454545454545503, -0.3535353535353538, -0.2525252525252526, -0.15151515151515138, -0.050505050505050164, 0.050505050505050164, 0.15151515151515138, 0.2525252525252526, 0.3535353535353538, 0.45454545454545414, 0.5555555555555554, 0.6565656565656566, 0.7575757575757578, 0.8585858585858581, 0.9595959595959593, 1.0606060606060606, 1.1616161616161618, 1.262626262626262, 1.3636363636363633, 1.4646464646464645, 1.5656565656565657, 1.666666666666667, 1.7676767676767673, 1.8686868686868685, 1.9696969696969697, 2.070707070707071, 2.1717171717171713, 2.2727272727272725, 2.3737373737373737, 2.474747474747475, 2.5757575757575752, 2.6767676767676765, 2.7777777777777777, 2.878787878787879, 2.9797979797979792, 3.0808080808080813, 3.1818181818181817, 3.282828282828282, 3.383838383838384, 3.4848484848484844, 3.5858585858585865, 3.686868686868687, 3.787878787878787, 3.8888888888888893, 3.9898989898989896, 4.09090909090909, 4.191919191919192, 4.292929292929292, 4.3939393939393945, 4.494949494949495, 4.595959595959595, 4.696969696969697, 4.797979797979798, 4.8989898989899, 5.0, 5.0, 4.898989898989899, 4.797979797979798, 4.696969696969697, 4.595959595959596, 4.494949494949495, 4.393939393939394, 4.292929292929293, 4.191919191919192, 4.090909090909091, 3.9898989898989896, 3.888888888888889, 3.787878787878788, 3.686868686868687, 3.5858585858585856, 3.484848484848485, 3.383838383838384, 3.282828282828283, 3.1818181818181817, 3.080808080808081, 2.9797979797979797, 2.878787878787879, 2.7777777777777777, 2.676767676767677, 2.5757575757575757, 2.474747474747475, 2.3737373737373737, 2.272727272727273, 2.1717171717171717, 2.070707070707071, 1.9696969696969697, 1.868686868686869, 1.7676767676767677, 1.6666666666666665, 1.5656565656565657, 1.4646464646464645, 1.3636363636363638, 1.2626262626262625, 1.1616161616161618, 1.0606060606060606, 0.9595959595959593, 0.858585858585859, 0.7575757575757578, 0.6565656565656566, 0.5555555555555554, 0.45454545454545503, 0.3535353535353538, 0.2525252525252526, 0.15151515151515138, 0.050505050505050164, -0.050505050505050164, -0.15151515151515138, -0.2525252525252526, -0.3535353535353538, -0.45454545454545414, -0.5555555555555554, -0.6565656565656566, -0.7575757575757578, -0.8585858585858581, -0.9595959595959593, -1.0606060606060606, -1.1616161616161618, -1.262626262626262, -1.3636363636363633, -1.4646464646464645, -1.5656565656565657, -1.666666666666667, -1.7676767676767673, -1.8686868686868685, -1.9696969696969697, -2.070707070707071, -2.1717171717171713, -2.2727272727272725, -2.3737373737373737, -2.474747474747475, -2.5757575757575752, -2.6767676767676765, -2.7777777777777777, -2.878787878787879, -2.9797979797979792, -3.0808080808080813, -3.1818181818181817, -3.282828282828282, -3.383838383838384, -3.4848484848484844, -3.5858585858585865, -3.686868686868687, -3.787878787878787, -3.8888888888888893, -3.9898989898989896, -4.09090909090909, -4.191919191919192, -4.292929292929292, -4.3939393939393945, -4.494949494949495, -4.595959595959595, -4.696969696969697, -4.797979797979798, -4.8989898989899, -5.0, -5.0, -4.898989898989899, -4.797979797979798, -4.696969696969697, -4.595959595959596, -4.494949494949495, -4.393939393939394, -4.292929292929293, -4.191919191919192, -4.090909090909091, -3.9898989898989896, -3.888888888888889, -3.787878787878788, -3.686868686868687, -3.5858585858585856, -3.484848484848485, -3.383838383838384, -3.282828282828283, -3.1818181818181817, -3.080808080808081, -2.9797979797979797, -2.878787878787879, -2.7777777777777777, -2.676767676767677, -2.5757575757575757, -2.474747474747475, -2.3737373737373737, -2.272727272727273, -2.1717171717171717, -2.070707070707071, -1.9696969696969697, -1.868686868686869, -1.7676767676767677, -1.6666666666666665, -1.5656565656565657, -1.4646464646464645, -1.3636363636363638, -1.2626262626262625, -1.1616161616161618, -1.0606060606060606, -0.9595959595959593, -0.858585858585859, -0.7575757575757578, -0.6565656565656566, -0.5555555555555554, -0.45454545454545503, -0.3535353535353538, -0.2525252525252526, -0.15151515151515138, -0.050505050505050164, 0.050505050505050164, 0.15151515151515138, 0.2525252525252526, 0.3535353535353538, 0.45454545454545414, 0.5555555555555554, 0.6565656565656566, 0.7575757575757578, 0.8585858585858581, 0.9595959595959593, 1.0606060606060606, 1.1616161616161618, 1.262626262626262, 1.3636363636363633, 1.4646464646464645, 1.5656565656565657, 1.666666666666667, 1.7676767676767673, 1.8686868686868685, 1.9696969696969697, 2.070707070707071, 2.1717171717171713, 2.2727272727272725, 2.3737373737373737, 2.474747474747475, 2.5757575757575752, 2.6767676767676765, 2.7777777777777777, 2.878787878787879, 2.9797979797979792, 3.0808080808080813, 3.1818181818181817, 3.282828282828282, 3.383838383838384, 3.4848484848484844, 3.5858585858585865, 3.686868686868687, 3.787878787878787, 3.8888888888888893, 3.9898989898989896, 4.09090909090909, 4.191919191919192, 4.292929292929292, 4.3939393939393945, 4.494949494949495, 4.595959595959595, 4.696969696969697, 4.797979797979798, 4.8989898989899, 5.0, 5.0, 4.898989898989899, 4.797979797979798, 4.696969696969697, 4.595959595959596, 4.494949494949495, 4.393939393939394, 4.292929292929293, 4.191919191919192, 4.090909090909091, 3.9898989898989896, 3.888888888888889, 3.787878787878788, 3.686868686868687, 3.5858585858585856, 3.484848484848485, 3.383838383838384, 3.282828282828283, 3.1818181818181817, 3.080808080808081, 2.9797979797979797, 2.878787878787879, 2.7777777777777777, 2.676767676767677, 2.5757575757575757, 2.474747474747475, 2.3737373737373737, 2.272727272727273, 2.1717171717171717, 2.070707070707071, 1.9696969696969697, 1.868686868686869, 1.7676767676767677, 1.6666666666666665, 1.5656565656565657, 1.4646464646464645, 1.3636363636363638, 1.2626262626262625, 1.1616161616161618, 1.0606060606060606, 0.9595959595959593, 0.858585858585859, 0.7575757575757578, 0.6565656565656566, 0.5555555555555554, 0.45454545454545503, 0.3535353535353538, 0.2525252525252526, 0.15151515151515138, 0.050505050505050164, -0.050505050505050164, -0.15151515151515138, -0.2525252525252526, -0.3535353535353538, -0.45454545454545414, -0.5555555555555554, -0.6565656565656566, -0.7575757575757578, -0.8585858585858581, -0.9595959595959593, -1.0606060606060606, -1.1616161616161618, -1.262626262626262, -1.3636363636363633, -1.4646464646464645, -1.5656565656565657, -1.666666666666667, -1.7676767676767673, -1.8686868686868685, -1.9696969696969697, -2.070707070707071, -2.1717171717171713, -2.2727272727272725, -2.3737373737373737, -2.474747474747475, -2.5757575757575752, -2.6767676767676765, -2.7777777777777777, -2.878787878787879, -2.9797979797979792, -3.0808080808080813, -3.1818181818181817, -3.282828282828282, -3.383838383838384, -3.4848484848484844, -3.5858585858585865, -3.686868686868687, -3.787878787878787, -3.8888888888888893, -3.9898989898989896, -4.09090909090909, -4.191919191919192, -4.292929292929292, -4.3939393939393945, -4.494949494949495, -4.595959595959595, -4.696969696969697, -4.797979797979798, -4.8989898989899, -5.0], \"z\": [-70.71067811865476, -69.45515142429167, -68.18862654877452, -66.91137511108134, -65.62366549050881, -64.32576294703848, -63.01792973733291, -61.70042522659203, -60.373505996486834, -59.03742594937516, -57.69243640899251, -56.33878621780067, -54.97672183116642, -53.60648740853384, -52.22832490174436, -50.84247414065135, -49.44917291616786, -48.048657060879385, -46.641160527346976, -45.22691546421945, -43.80615229026813, -42.37909976645203, -40.945985066116044, -39.50703384342059, -38.06247030009593, -36.612517250611305, -35.157396185843965, -33.69732733533077, -32.232529728180594, -30.76322125272359, -29.28961871496949, -27.81193789594532, -26.330393607979513, -24.84519974999766, -23.356569361892554, -21.864714678029266, -20.3698471799442, -18.872177648294983, -17.371916214116936, -15.869272409439771, -14.364455217317412, -12.857673121322103, -11.349134154553058, -9.839045948209034, -8.327615779772863, -6.8150506208556445, -5.301557184747252, -3.7873419737195224, -2.272611326127561, -0.7575714633546146, 0.7575714633546146, 2.272611326127561, 3.7873419737195224, 5.301557184747252, 6.815050620855631, 8.327615779772863, 9.839045948209034, 11.349134154553058, 12.85767312132209, 14.364455217317412, 15.869272409439771, 17.371916214116936, 18.872177648294976, 20.36984717994419, 21.864714678029266, 23.356569361892554, 24.84519974999767, 26.330393607979506, 27.811937895945313, 29.28961871496949, 30.76322125272359, 32.23252972818059, 33.69732733533076, 35.157396185843965, 36.612517250611305, 38.062470300095924, 39.50703384342058, 40.945985066116044, 42.37909976645203, 43.80615229026812, 45.22691546421945, 46.641160527346976, 48.04865706087937, 49.44917291616786, 50.84247414065135, 52.22832490174437, 53.60648740853384, 54.976721831166415, 56.338786217800674, 57.69243640899251, 59.03742594937515, 60.373505996486834, 61.70042522659202, 63.01792973733293, 64.32576294703848, 65.6236654905088, 66.91137511108134, 68.18862654877452, 69.45515142429169, 70.71067811865476, -70.71067811865476, -69.45515142429167, -68.18862654877452, -66.91137511108134, -65.62366549050881, -64.32576294703848, -63.01792973733291, -61.70042522659203, -60.373505996486834, -59.03742594937516, -57.69243640899251, -56.33878621780067, -54.97672183116642, -53.60648740853384, -52.22832490174436, -50.84247414065135, -49.44917291616786, -48.048657060879385, -46.641160527346976, -45.22691546421945, -43.80615229026813, -42.37909976645203, -40.945985066116044, -39.50703384342059, -38.06247030009593, -36.612517250611305, -35.157396185843965, -33.69732733533077, -32.232529728180594, -30.76322125272359, -29.28961871496949, -27.81193789594532, -26.330393607979513, -24.84519974999766, -23.356569361892554, -21.864714678029266, -20.3698471799442, -18.872177648294983, -17.371916214116936, -15.869272409439771, -14.364455217317412, -12.857673121322103, -11.349134154553058, -9.839045948209034, -8.327615779772863, -6.8150506208556445, -5.301557184747252, -3.7873419737195224, -2.272611326127561, -0.7575714633546146, 0.7575714633546146, 2.272611326127561, 3.7873419737195224, 5.301557184747252, 6.815050620855631, 8.327615779772863, 9.839045948209034, 11.349134154553058, 12.85767312132209, 14.364455217317412, 15.869272409439771, 17.371916214116936, 18.872177648294976, 20.36984717994419, 21.864714678029266, 23.356569361892554, 24.84519974999767, 26.330393607979506, 27.811937895945313, 29.28961871496949, 30.76322125272359, 32.23252972818059, 33.69732733533076, 35.157396185843965, 36.612517250611305, 38.062470300095924, 39.50703384342058, 40.945985066116044, 42.37909976645203, 43.80615229026812, 45.22691546421945, 46.641160527346976, 48.04865706087937, 49.44917291616786, 50.84247414065135, 52.22832490174437, 53.60648740853384, 54.976721831166415, 56.338786217800674, 57.69243640899251, 59.03742594937515, 60.373505996486834, 61.70042522659202, 63.01792973733293, 64.32576294703848, 65.6236654905088, 66.91137511108134, 68.18862654877452, 69.45515142429169, 70.71067811865476, -0.0, -4.898739969652749, -6.750315714378595, -8.05153726970908, -9.049671312902925, -9.843250798859367, -10.484216177518025, -11.004276001818274, -11.424662970597483, -11.760536752692317, -12.023245355820096, -12.221598687174895, -12.362637298288575, -12.45212228653133, -12.494861443290318, -12.494934344471183, -12.45585246000751, -12.380676009270896, -12.27210116108884, -12.132526375540186, -11.964103743972611, -11.768779325133554, -11.548325267820806, -11.304365706554885, -11.03839786976245, -10.751809460388959, -10.445893100777699, -10.121858441252803, -9.780842391726784, -9.42391783223796, -9.052101081053275, -8.666358340581837, -8.267611296758655, -7.856742013183861, -7.434597234564594, -7.00199219303699, -6.559713994375019, -6.10852464790738, -5.649163793405706, -5.18235116970522, -4.708788862939112, -4.229163366677327, -3.7441474817034197, -3.2544020794410544, -2.7605777499997393, -2.263316353327135, -1.763252489937754, -1.2610149060614508, -0.7572278467617368, -0.2525123695697275, 0.2525123695697275, 0.7572278467617368, 1.2610149060614508, 1.763252489937754, 2.2633163533271308, 2.7605777499997393, 3.2544020794410544, 3.7441474817034197, 4.229163366677324, 4.708788862939112, 5.18235116970522, 5.649163793405706, 6.1085246479073785, 6.559713994375017, 7.00199219303699, 7.434597234564594, 7.8567420131838634, 8.267611296758654, 8.666358340581834, 9.052101081053275, 9.42391783223796, 9.780842391726782, 10.121858441252801, 10.445893100777699, 10.751809460388959, 11.038397869762449, 11.304365706554885, 11.548325267820806, 11.768779325133554, 11.964103743972611, 12.132526375540186, 12.27210116108884, 12.380676009270895, 12.45585246000751, 12.494934344471183, 12.494861443290318, 12.45212228653133, 12.362637298288577, 12.221598687174895, 12.023245355820096, 11.760536752692321, 11.424662970597483, 11.004276001818278, 10.484216177518016, 9.843250798859367, 9.049671312902932, 8.05153726970908, 6.750315714378595, 4.898739969652733, 0.0, -0.0, -4.898739969652749, -6.750315714378595, -8.05153726970908, -9.049671312902925, -9.843250798859367, -10.484216177518025, -11.004276001818274, -11.424662970597483, -11.760536752692317, -12.023245355820096, -12.221598687174895, -12.362637298288575, -12.45212228653133, -12.494861443290318, -12.494934344471183, -12.45585246000751, -12.380676009270896, -12.27210116108884, -12.132526375540186, -11.964103743972611, -11.768779325133554, -11.548325267820806, -11.304365706554885, -11.03839786976245, -10.751809460388959, -10.445893100777699, -10.121858441252803, -9.780842391726784, -9.42391783223796, -9.052101081053275, -8.666358340581837, -8.267611296758655, -7.856742013183861, -7.434597234564594, -7.00199219303699, -6.559713994375019, -6.10852464790738, -5.649163793405706, -5.18235116970522, -4.708788862939112, -4.229163366677327, -3.7441474817034197, -3.2544020794410544, -2.7605777499997393, -2.263316353327135, -1.763252489937754, -1.2610149060614508, -0.7572278467617368, -0.2525123695697275, 0.2525123695697275, 0.7572278467617368, 1.2610149060614508, 1.763252489937754, 2.2633163533271308, 2.7605777499997393, 3.2544020794410544, 3.7441474817034197, 4.229163366677324, 4.708788862939112, 5.18235116970522, 5.649163793405706, 6.1085246479073785, 6.559713994375017, 7.00199219303699, 7.434597234564594, 7.8567420131838634, 8.267611296758654, 8.666358340581834, 9.052101081053275, 9.42391783223796, 9.780842391726782, 10.121858441252801, 10.445893100777699, 10.751809460388959, 11.038397869762449, 11.304365706554885, 11.548325267820806, 11.768779325133554, 11.964103743972611, 12.132526375540186, 12.27210116108884, 12.380676009270895, 12.45585246000751, 12.494934344471183, 12.494861443290318, 12.45212228653133, 12.362637298288577, 12.221598687174895, 12.023245355820096, 11.760536752692321, 11.424662970597483, 11.004276001818278, 10.484216177518016, 9.843250798859367, 9.049671312902932, 8.05153726970908, 6.750315714378595, 4.898739969652733, 0.0]}],\n",
              "                        {\"coloraxis\": {\"colorbar\": {\"title\": {\"text\": \"Y\"}}, \"colorscale\": [[0.0, \"#0d0887\"], [0.1111111111111111, \"#46039f\"], [0.2222222222222222, \"#7201a8\"], [0.3333333333333333, \"#9c179e\"], [0.4444444444444444, \"#bd3786\"], [0.5555555555555556, \"#d8576b\"], [0.6666666666666666, \"#ed7953\"], [0.7777777777777778, \"#fb9f3a\"], [0.8888888888888888, \"#fdca26\"], [1.0, \"#f0f921\"]]}, \"legend\": {\"tracegroupgap\": 0}, \"margin\": {\"t\": 60}, \"scene\": {\"domain\": {\"x\": [0.0, 1.0], \"y\": [0.0, 1.0]}, \"xaxis\": {\"title\": {\"text\": \"X1\"}}, \"yaxis\": {\"title\": {\"text\": \"X2\"}}, \"zaxis\": {\"title\": {\"text\": \"X1*X2\"}}}, \"template\": {\"data\": {\"bar\": [{\"error_x\": {\"color\": \"#2a3f5f\"}, \"error_y\": {\"color\": \"#2a3f5f\"}, \"marker\": {\"line\": {\"color\": \"#E5ECF6\", \"width\": 0.5}}, \"type\": \"bar\"}], \"barpolar\": [{\"marker\": {\"line\": {\"color\": \"#E5ECF6\", \"width\": 0.5}}, \"type\": \"barpolar\"}], \"carpet\": [{\"aaxis\": {\"endlinecolor\": \"#2a3f5f\", \"gridcolor\": \"white\", \"linecolor\": \"white\", \"minorgridcolor\": \"white\", \"startlinecolor\": \"#2a3f5f\"}, \"baxis\": {\"endlinecolor\": \"#2a3f5f\", \"gridcolor\": \"white\", \"linecolor\": \"white\", \"minorgridcolor\": \"white\", \"startlinecolor\": \"#2a3f5f\"}, \"type\": \"carpet\"}], \"choropleth\": [{\"colorbar\": {\"outlinewidth\": 0, \"ticks\": \"\"}, \"type\": \"choropleth\"}], \"contour\": [{\"colorbar\": {\"outlinewidth\": 0, \"ticks\": \"\"}, \"colorscale\": [[0.0, \"#0d0887\"], [0.1111111111111111, \"#46039f\"], [0.2222222222222222, \"#7201a8\"], [0.3333333333333333, \"#9c179e\"], [0.4444444444444444, \"#bd3786\"], [0.5555555555555556, \"#d8576b\"], [0.6666666666666666, \"#ed7953\"], [0.7777777777777778, \"#fb9f3a\"], [0.8888888888888888, \"#fdca26\"], [1.0, \"#f0f921\"]], \"type\": \"contour\"}], \"contourcarpet\": [{\"colorbar\": {\"outlinewidth\": 0, \"ticks\": \"\"}, \"type\": \"contourcarpet\"}], \"heatmap\": [{\"colorbar\": {\"outlinewidth\": 0, \"ticks\": \"\"}, \"colorscale\": [[0.0, \"#0d0887\"], [0.1111111111111111, \"#46039f\"], [0.2222222222222222, \"#7201a8\"], [0.3333333333333333, \"#9c179e\"], [0.4444444444444444, \"#bd3786\"], [0.5555555555555556, \"#d8576b\"], [0.6666666666666666, \"#ed7953\"], [0.7777777777777778, \"#fb9f3a\"], [0.8888888888888888, \"#fdca26\"], [1.0, \"#f0f921\"]], \"type\": \"heatmap\"}], \"heatmapgl\": [{\"colorbar\": {\"outlinewidth\": 0, \"ticks\": \"\"}, \"colorscale\": [[0.0, \"#0d0887\"], [0.1111111111111111, \"#46039f\"], [0.2222222222222222, \"#7201a8\"], [0.3333333333333333, \"#9c179e\"], [0.4444444444444444, \"#bd3786\"], [0.5555555555555556, \"#d8576b\"], [0.6666666666666666, \"#ed7953\"], [0.7777777777777778, \"#fb9f3a\"], [0.8888888888888888, \"#fdca26\"], [1.0, \"#f0f921\"]], \"type\": \"heatmapgl\"}], \"histogram\": [{\"marker\": {\"colorbar\": {\"outlinewidth\": 0, \"ticks\": \"\"}}, \"type\": \"histogram\"}], \"histogram2d\": [{\"colorbar\": {\"outlinewidth\": 0, \"ticks\": \"\"}, \"colorscale\": [[0.0, \"#0d0887\"], [0.1111111111111111, \"#46039f\"], [0.2222222222222222, \"#7201a8\"], [0.3333333333333333, \"#9c179e\"], [0.4444444444444444, \"#bd3786\"], [0.5555555555555556, \"#d8576b\"], [0.6666666666666666, \"#ed7953\"], [0.7777777777777778, \"#fb9f3a\"], [0.8888888888888888, \"#fdca26\"], [1.0, \"#f0f921\"]], \"type\": \"histogram2d\"}], \"histogram2dcontour\": [{\"colorbar\": {\"outlinewidth\": 0, \"ticks\": \"\"}, \"colorscale\": [[0.0, \"#0d0887\"], [0.1111111111111111, \"#46039f\"], [0.2222222222222222, \"#7201a8\"], [0.3333333333333333, \"#9c179e\"], [0.4444444444444444, \"#bd3786\"], [0.5555555555555556, \"#d8576b\"], [0.6666666666666666, \"#ed7953\"], [0.7777777777777778, \"#fb9f3a\"], [0.8888888888888888, \"#fdca26\"], [1.0, \"#f0f921\"]], \"type\": \"histogram2dcontour\"}], \"mesh3d\": [{\"colorbar\": {\"outlinewidth\": 0, \"ticks\": \"\"}, \"type\": \"mesh3d\"}], \"parcoords\": [{\"line\": {\"colorbar\": {\"outlinewidth\": 0, \"ticks\": \"\"}}, \"type\": \"parcoords\"}], \"pie\": [{\"automargin\": true, \"type\": \"pie\"}], \"scatter\": [{\"marker\": {\"colorbar\": {\"outlinewidth\": 0, \"ticks\": \"\"}}, \"type\": \"scatter\"}], \"scatter3d\": [{\"line\": {\"colorbar\": {\"outlinewidth\": 0, \"ticks\": \"\"}}, \"marker\": {\"colorbar\": {\"outlinewidth\": 0, \"ticks\": \"\"}}, \"type\": \"scatter3d\"}], \"scattercarpet\": [{\"marker\": {\"colorbar\": {\"outlinewidth\": 0, \"ticks\": \"\"}}, \"type\": \"scattercarpet\"}], \"scattergeo\": [{\"marker\": {\"colorbar\": {\"outlinewidth\": 0, \"ticks\": \"\"}}, \"type\": \"scattergeo\"}], \"scattergl\": [{\"marker\": {\"colorbar\": {\"outlinewidth\": 0, \"ticks\": \"\"}}, \"type\": \"scattergl\"}], \"scattermapbox\": [{\"marker\": {\"colorbar\": {\"outlinewidth\": 0, \"ticks\": \"\"}}, \"type\": \"scattermapbox\"}], \"scatterpolar\": [{\"marker\": {\"colorbar\": {\"outlinewidth\": 0, \"ticks\": \"\"}}, \"type\": \"scatterpolar\"}], \"scatterpolargl\": [{\"marker\": {\"colorbar\": {\"outlinewidth\": 0, \"ticks\": \"\"}}, \"type\": \"scatterpolargl\"}], \"scatterternary\": [{\"marker\": {\"colorbar\": {\"outlinewidth\": 0, \"ticks\": \"\"}}, \"type\": \"scatterternary\"}], \"surface\": [{\"colorbar\": {\"outlinewidth\": 0, \"ticks\": \"\"}, \"colorscale\": [[0.0, \"#0d0887\"], [0.1111111111111111, \"#46039f\"], [0.2222222222222222, \"#7201a8\"], [0.3333333333333333, \"#9c179e\"], [0.4444444444444444, \"#bd3786\"], [0.5555555555555556, \"#d8576b\"], [0.6666666666666666, \"#ed7953\"], [0.7777777777777778, \"#fb9f3a\"], [0.8888888888888888, \"#fdca26\"], [1.0, \"#f0f921\"]], \"type\": \"surface\"}], \"table\": [{\"cells\": {\"fill\": {\"color\": \"#EBF0F8\"}, \"line\": {\"color\": \"white\"}}, \"header\": {\"fill\": {\"color\": \"#C8D4E3\"}, \"line\": {\"color\": \"white\"}}, \"type\": \"table\"}]}, \"layout\": {\"annotationdefaults\": {\"arrowcolor\": \"#2a3f5f\", \"arrowhead\": 0, \"arrowwidth\": 1}, \"coloraxis\": {\"colorbar\": {\"outlinewidth\": 0, \"ticks\": \"\"}}, \"colorscale\": {\"diverging\": [[0, \"#8e0152\"], [0.1, \"#c51b7d\"], [0.2, \"#de77ae\"], [0.3, \"#f1b6da\"], [0.4, \"#fde0ef\"], [0.5, \"#f7f7f7\"], [0.6, \"#e6f5d0\"], [0.7, \"#b8e186\"], [0.8, \"#7fbc41\"], [0.9, \"#4d9221\"], [1, \"#276419\"]], \"sequential\": [[0.0, \"#0d0887\"], [0.1111111111111111, \"#46039f\"], [0.2222222222222222, \"#7201a8\"], [0.3333333333333333, \"#9c179e\"], [0.4444444444444444, \"#bd3786\"], [0.5555555555555556, \"#d8576b\"], [0.6666666666666666, \"#ed7953\"], [0.7777777777777778, \"#fb9f3a\"], [0.8888888888888888, \"#fdca26\"], [1.0, \"#f0f921\"]], \"sequentialminus\": [[0.0, \"#0d0887\"], [0.1111111111111111, \"#46039f\"], [0.2222222222222222, \"#7201a8\"], [0.3333333333333333, \"#9c179e\"], [0.4444444444444444, \"#bd3786\"], [0.5555555555555556, \"#d8576b\"], [0.6666666666666666, \"#ed7953\"], [0.7777777777777778, \"#fb9f3a\"], [0.8888888888888888, \"#fdca26\"], [1.0, \"#f0f921\"]]}, \"colorway\": [\"#636efa\", \"#EF553B\", \"#00cc96\", \"#ab63fa\", \"#FFA15A\", \"#19d3f3\", \"#FF6692\", \"#B6E880\", \"#FF97FF\", \"#FECB52\"], \"font\": {\"color\": \"#2a3f5f\"}, \"geo\": {\"bgcolor\": \"white\", \"lakecolor\": \"white\", \"landcolor\": \"#E5ECF6\", \"showlakes\": true, \"showland\": true, \"subunitcolor\": \"white\"}, \"hoverlabel\": {\"align\": \"left\"}, \"hovermode\": \"closest\", \"mapbox\": {\"style\": \"light\"}, \"paper_bgcolor\": \"white\", \"plot_bgcolor\": \"#E5ECF6\", \"polar\": {\"angularaxis\": {\"gridcolor\": \"white\", \"linecolor\": \"white\", \"ticks\": \"\"}, \"bgcolor\": \"#E5ECF6\", \"radialaxis\": {\"gridcolor\": \"white\", \"linecolor\": \"white\", \"ticks\": \"\"}}, \"scene\": {\"xaxis\": {\"backgroundcolor\": \"#E5ECF6\", \"gridcolor\": \"white\", \"gridwidth\": 2, \"linecolor\": \"white\", \"showbackground\": true, \"ticks\": \"\", \"zerolinecolor\": \"white\"}, \"yaxis\": {\"backgroundcolor\": \"#E5ECF6\", \"gridcolor\": \"white\", \"gridwidth\": 2, \"linecolor\": \"white\", \"showbackground\": true, \"ticks\": \"\", \"zerolinecolor\": \"white\"}, \"zaxis\": {\"backgroundcolor\": \"#E5ECF6\", \"gridcolor\": \"white\", \"gridwidth\": 2, \"linecolor\": \"white\", \"showbackground\": true, \"ticks\": \"\", \"zerolinecolor\": \"white\"}}, \"shapedefaults\": {\"line\": {\"color\": \"#2a3f5f\"}}, \"ternary\": {\"aaxis\": {\"gridcolor\": \"white\", \"linecolor\": \"white\", \"ticks\": \"\"}, \"baxis\": {\"gridcolor\": \"white\", \"linecolor\": \"white\", \"ticks\": \"\"}, \"bgcolor\": \"#E5ECF6\", \"caxis\": {\"gridcolor\": \"white\", \"linecolor\": \"white\", \"ticks\": \"\"}}, \"title\": {\"x\": 0.05}, \"xaxis\": {\"automargin\": true, \"gridcolor\": \"white\", \"linecolor\": \"white\", \"ticks\": \"\", \"title\": {\"standoff\": 15}, \"zerolinecolor\": \"white\", \"zerolinewidth\": 2}, \"yaxis\": {\"automargin\": true, \"gridcolor\": \"white\", \"linecolor\": \"white\", \"ticks\": \"\", \"title\": {\"standoff\": 15}, \"zerolinecolor\": \"white\", \"zerolinewidth\": 2}}}},\n",
              "                        {\"responsive\": true}\n",
              "                    ).then(function(){\n",
              "                            \n",
              "var gd = document.getElementById('59276168-152a-418c-9e21-8d1e2296f5b0');\n",
              "var x = new MutationObserver(function (mutations, observer) {{\n",
              "        var display = window.getComputedStyle(gd).display;\n",
              "        if (!display || display === 'none') {{\n",
              "            console.log([gd, 'removed!']);\n",
              "            Plotly.purge(gd);\n",
              "            observer.disconnect();\n",
              "        }}\n",
              "}});\n",
              "\n",
              "// Listen for the removal of the full notebook cells\n",
              "var notebookContainer = gd.closest('#notebook-container');\n",
              "if (notebookContainer) {{\n",
              "    x.observe(notebookContainer, {childList: true});\n",
              "}}\n",
              "\n",
              "// Listen for the clearing of the current output cell\n",
              "var outputEl = gd.closest('.output');\n",
              "if (outputEl) {{\n",
              "    x.observe(outputEl, {childList: true});\n",
              "}}\n",
              "\n",
              "                        })\n",
              "                };\n",
              "                \n",
              "            </script>\n",
              "        </div>\n",
              "</body>\n",
              "</html>"
            ]
          },
          "metadata": {
            "tags": []
          }
        }
      ]
    },
    {
      "cell_type": "markdown",
      "metadata": {
        "id": "W2ibx8D8o71D"
      },
      "source": [
        "This isn't really a desired sort of kernel we'd like to use, so let's plot ${x_1^2}$ and ${x_2^2}$ on the x, and y axes. "
      ]
    },
    {
      "cell_type": "code",
      "metadata": {
        "colab": {
          "base_uri": "https://localhost:8080/",
          "height": 542
        },
        "id": "Ad7E-QggVvDl",
        "outputId": "61f8e469-2ffc-43f1-a1ca-4079c71e63db"
      },
      "source": [
        "#Adding higher order terms as new features to increase it's complexity, an generate a polynomial kernel\n",
        "fig = px.scatter_3d(df, x='X1_Square', y='X1_Square', z='X1*X2',\n",
        "              color='Y')\n",
        "fig.show()\n",
        "\n"
      ],
      "execution_count": 19,
      "outputs": [
        {
          "output_type": "display_data",
          "data": {
            "text/html": [
              "<html>\n",
              "<head><meta charset=\"utf-8\" /></head>\n",
              "<body>\n",
              "    <div>\n",
              "            <script src=\"https://cdnjs.cloudflare.com/ajax/libs/mathjax/2.7.5/MathJax.js?config=TeX-AMS-MML_SVG\"></script><script type=\"text/javascript\">if (window.MathJax) {MathJax.Hub.Config({SVG: {font: \"STIX-Web\"}});}</script>\n",
              "                <script type=\"text/javascript\">window.PlotlyConfig = {MathJaxConfig: 'local'};</script>\n",
              "        <script src=\"https://cdn.plot.ly/plotly-latest.min.js\"></script>    \n",
              "            <div id=\"071adb13-4c38-49b1-a316-d8c97aafd2ba\" class=\"plotly-graph-div\" style=\"height:525px; width:100%;\"></div>\n",
              "            <script type=\"text/javascript\">\n",
              "                \n",
              "                    window.PLOTLYENV=window.PLOTLYENV || {};\n",
              "                    \n",
              "                if (document.getElementById(\"071adb13-4c38-49b1-a316-d8c97aafd2ba\")) {\n",
              "                    Plotly.newPlot(\n",
              "                        '071adb13-4c38-49b1-a316-d8c97aafd2ba',\n",
              "                        [{\"hoverlabel\": {\"namelength\": 0}, \"hovertemplate\": \"X1_Square=%{y}<br>X1*X2=%{z}<br>Y=%{marker.color}\", \"legendgroup\": \"\", \"marker\": {\"color\": [0, 0, 0, 0, 0, 0, 0, 0, 0, 0, 0, 0, 0, 0, 0, 0, 0, 0, 0, 0, 0, 0, 0, 0, 0, 0, 0, 0, 0, 0, 0, 0, 0, 0, 0, 0, 0, 0, 0, 0, 0, 0, 0, 0, 0, 0, 0, 0, 0, 0, 0, 0, 0, 0, 0, 0, 0, 0, 0, 0, 0, 0, 0, 0, 0, 0, 0, 0, 0, 0, 0, 0, 0, 0, 0, 0, 0, 0, 0, 0, 0, 0, 0, 0, 0, 0, 0, 0, 0, 0, 0, 0, 0, 0, 0, 0, 0, 0, 0, 0, 0, 0, 0, 0, 0, 0, 0, 0, 0, 0, 0, 0, 0, 0, 0, 0, 0, 0, 0, 0, 0, 0, 0, 0, 0, 0, 0, 0, 0, 0, 0, 0, 0, 0, 0, 0, 0, 0, 0, 0, 0, 0, 0, 0, 0, 0, 0, 0, 0, 0, 0, 0, 0, 0, 0, 0, 0, 0, 0, 0, 0, 0, 0, 0, 0, 0, 0, 0, 0, 0, 0, 0, 0, 0, 0, 0, 0, 0, 0, 0, 0, 0, 0, 0, 0, 0, 0, 0, 0, 0, 0, 0, 0, 0, 0, 0, 0, 0, 0, 0, 1, 1, 1, 1, 1, 1, 1, 1, 1, 1, 1, 1, 1, 1, 1, 1, 1, 1, 1, 1, 1, 1, 1, 1, 1, 1, 1, 1, 1, 1, 1, 1, 1, 1, 1, 1, 1, 1, 1, 1, 1, 1, 1, 1, 1, 1, 1, 1, 1, 1, 1, 1, 1, 1, 1, 1, 1, 1, 1, 1, 1, 1, 1, 1, 1, 1, 1, 1, 1, 1, 1, 1, 1, 1, 1, 1, 1, 1, 1, 1, 1, 1, 1, 1, 1, 1, 1, 1, 1, 1, 1, 1, 1, 1, 1, 1, 1, 1, 1, 1, 1, 1, 1, 1, 1, 1, 1, 1, 1, 1, 1, 1, 1, 1, 1, 1, 1, 1, 1, 1, 1, 1, 1, 1, 1, 1, 1, 1, 1, 1, 1, 1, 1, 1, 1, 1, 1, 1, 1, 1, 1, 1, 1, 1, 1, 1, 1, 1, 1, 1, 1, 1, 1, 1, 1, 1, 1, 1, 1, 1, 1, 1, 1, 1, 1, 1, 1, 1, 1, 1, 1, 1, 1, 1, 1, 1, 1, 1, 1, 1, 1, 1, 1, 1, 1, 1, 1, 1, 1, 1, 1, 1, 1, 1, 1, 1, 1, 1, 1, 1], \"coloraxis\": \"coloraxis\", \"symbol\": \"circle\"}, \"mode\": \"markers\", \"name\": \"\", \"scene\": \"scene\", \"showlegend\": false, \"type\": \"scatter3d\", \"x\": [200.00000000000003, 200.9998979695949, 201.97938985817774, 202.93847566574837, 203.8771553923069, 204.79542903785327, 205.69329660238753, 206.57075808590963, 207.42781348841956, 208.26446280991738, 209.08070605040302, 209.87654320987653, 210.65197428833793, 211.40699928578715, 212.14161820222424, 212.85583103764918, 213.54963779206204, 214.2230384654627, 214.87603305785123, 215.50862156922764, 216.1208039995919, 216.712580348944, 217.28395061728398, 217.83491480461177, 218.36547291092742, 218.87562493623102, 219.3653708805224, 219.83471074380162, 220.28364452606874, 220.71217222732375, 221.1202938475666, 221.50800938679723, 221.87531884501578, 222.2222222222222, 222.5487195184165, 222.85481073359864, 223.14049586776864, 223.40577492092643, 223.65064789307215, 223.8751147842057, 224.0791755943271, 224.26283032343642, 224.42607897153354, 224.5689215386185, 224.69135802469137, 224.79338842975207, 224.87501275380063, 224.93623099683703, 224.9770431588613, 224.99744923987345, 224.99744923987345, 224.9770431588613, 224.93623099683703, 224.87501275380063, 224.79338842975207, 224.69135802469137, 224.5689215386185, 224.42607897153354, 224.26283032343642, 224.0791755943271, 223.8751147842057, 223.65064789307215, 223.40577492092643, 223.14049586776864, 222.85481073359864, 222.5487195184165, 222.2222222222222, 221.87531884501578, 221.50800938679723, 221.1202938475666, 220.71217222732375, 220.28364452606874, 219.83471074380162, 219.3653708805224, 218.87562493623102, 218.36547291092742, 217.83491480461177, 217.28395061728398, 216.712580348944, 216.1208039995919, 215.50862156922759, 214.87603305785123, 214.2230384654627, 213.54963779206204, 212.85583103764918, 212.14161820222424, 211.40699928578715, 210.65197428833793, 209.87654320987653, 209.08070605040302, 208.26446280991738, 207.42781348841956, 206.57075808590963, 205.69329660238753, 204.79542903785327, 203.8771553923069, 202.93847566574837, 201.97938985817774, 200.9998979695949, 200.00000000000003, 200.00000000000003, 200.9998979695949, 201.97938985817774, 202.93847566574837, 203.8771553923069, 204.79542903785327, 205.69329660238753, 206.57075808590963, 207.42781348841956, 208.26446280991738, 209.08070605040302, 209.87654320987653, 210.65197428833793, 211.40699928578715, 212.14161820222424, 212.85583103764918, 213.54963779206204, 214.2230384654627, 214.87603305785123, 215.50862156922764, 216.1208039995919, 216.712580348944, 217.28395061728398, 217.83491480461177, 218.36547291092742, 218.87562493623102, 219.3653708805224, 219.83471074380162, 220.28364452606874, 220.71217222732375, 221.1202938475666, 221.50800938679723, 221.87531884501578, 222.2222222222222, 222.5487195184165, 222.85481073359864, 223.14049586776864, 223.40577492092643, 223.65064789307215, 223.8751147842057, 224.0791755943271, 224.26283032343642, 224.42607897153354, 224.5689215386185, 224.69135802469137, 224.79338842975207, 224.87501275380063, 224.93623099683703, 224.9770431588613, 224.99744923987345, 224.99744923987345, 224.9770431588613, 224.93623099683703, 224.87501275380063, 224.79338842975207, 224.69135802469137, 224.5689215386185, 224.42607897153354, 224.26283032343642, 224.0791755943271, 223.8751147842057, 223.65064789307215, 223.40577492092643, 223.14049586776864, 222.85481073359864, 222.5487195184165, 222.2222222222222, 221.87531884501578, 221.50800938679723, 221.1202938475666, 220.71217222732375, 220.28364452606874, 219.83471074380162, 219.3653708805224, 218.87562493623102, 218.36547291092742, 217.83491480461177, 217.28395061728398, 216.712580348944, 216.1208039995919, 215.50862156922759, 214.87603305785123, 214.2230384654627, 213.54963779206204, 212.85583103764918, 212.14161820222424, 211.40699928578715, 210.65197428833793, 209.87654320987653, 209.08070605040302, 208.26446280991738, 207.42781348841956, 206.57075808590963, 205.69329660238753, 204.79542903785327, 203.8771553923069, 202.93847566574837, 201.97938985817774, 200.9998979695949, 200.00000000000003, 0.0, 0.9998979695949402, 1.97938985817774, 2.9384756657483915, 3.8771553923069066, 4.795429037853282, 5.693296602387515, 6.570758085909598, 7.427813488419548, 8.264462809917353, 9.080706050403023, 9.876543209876544, 10.651974288337922, 11.406999285787165, 12.141618202224265, 12.85583103764922, 13.549637792062033, 14.22303846546271, 14.876033057851238, 15.50862156922763, 16.120803999591878, 16.712580348943987, 17.28395061728395, 17.834914804611774, 18.365472910927455, 18.875624936231, 19.365370880522395, 19.83471074380165, 20.283644526068773, 20.71217222732374, 21.12029384756658, 21.508009386797262, 21.87531884501582, 22.222222222222225, 22.548719518416483, 22.854810733598615, 23.1404958677686, 23.40577492092644, 23.650647893072133, 23.875114784205692, 24.07917559432711, 24.262830323436383, 24.42607897153352, 24.568921538618508, 24.69135802469136, 24.79338842975207, 24.875012753800632, 24.936230996837057, 24.977043158861346, 24.99744923987348, 24.99744923987348, 24.977043158861346, 24.936230996837057, 24.875012753800632, 24.79338842975207, 24.69135802469136, 24.568921538618508, 24.42607897153352, 24.262830323436383, 24.07917559432711, 23.875114784205692, 23.650647893072133, 23.40577492092644, 23.1404958677686, 22.854810733598615, 22.548719518416483, 22.222222222222225, 21.87531884501582, 21.508009386797262, 21.12029384756658, 20.71217222732374, 20.283644526068773, 19.83471074380165, 19.365370880522395, 18.875624936231, 18.365472910927455, 17.83491480461178, 17.28395061728395, 16.712580348943987, 16.120803999591885, 15.508621569227627, 14.876033057851238, 14.223038465462713, 13.549637792062033, 12.855831037649223, 12.141618202224258, 11.406999285787165, 10.65197428833793, 9.87654320987654, 9.080706050403023, 8.264462809917362, 7.427813488419548, 6.570758085909605, 5.6932966023875045, 4.795429037853282, 3.8771553923069146, 2.9384756657483915, 1.97938985817774, 0.999897969594933, 0.0, 0.0, 0.9998979695949402, 1.97938985817774, 2.9384756657483915, 3.8771553923069066, 4.795429037853282, 5.693296602387515, 6.570758085909598, 7.427813488419548, 8.264462809917353, 9.080706050403023, 9.876543209876544, 10.651974288337922, 11.406999285787165, 12.141618202224265, 12.85583103764922, 13.549637792062033, 14.22303846546271, 14.876033057851238, 15.50862156922763, 16.120803999591878, 16.712580348943987, 17.28395061728395, 17.834914804611774, 18.365472910927455, 18.875624936231, 19.365370880522395, 19.83471074380165, 20.283644526068773, 20.71217222732374, 21.12029384756658, 21.508009386797262, 21.87531884501582, 22.222222222222225, 22.548719518416483, 22.854810733598615, 23.1404958677686, 23.40577492092644, 23.650647893072133, 23.875114784205692, 24.07917559432711, 24.262830323436383, 24.42607897153352, 24.568921538618508, 24.69135802469136, 24.79338842975207, 24.875012753800632, 24.936230996837057, 24.977043158861346, 24.99744923987348, 24.99744923987348, 24.977043158861346, 24.936230996837057, 24.875012753800632, 24.79338842975207, 24.69135802469136, 24.568921538618508, 24.42607897153352, 24.262830323436383, 24.07917559432711, 23.875114784205692, 23.650647893072133, 23.40577492092644, 23.1404958677686, 22.854810733598615, 22.548719518416483, 22.222222222222225, 21.87531884501582, 21.508009386797262, 21.12029384756658, 20.71217222732374, 20.283644526068773, 19.83471074380165, 19.365370880522395, 18.875624936231, 18.365472910927455, 17.83491480461178, 17.28395061728395, 16.712580348943987, 16.120803999591885, 15.508621569227627, 14.876033057851238, 14.223038465462713, 13.549637792062033, 12.855831037649223, 12.141618202224258, 11.406999285787165, 10.65197428833793, 9.87654320987654, 9.080706050403023, 8.264462809917362, 7.427813488419548, 6.570758085909605, 5.6932966023875045, 4.795429037853282, 3.8771553923069146, 2.9384756657483915, 1.97938985817774, 0.999897969594933, 0.0], \"y\": [200.00000000000003, 200.9998979695949, 201.97938985817774, 202.93847566574837, 203.8771553923069, 204.79542903785327, 205.69329660238753, 206.57075808590963, 207.42781348841956, 208.26446280991738, 209.08070605040302, 209.87654320987653, 210.65197428833793, 211.40699928578715, 212.14161820222424, 212.85583103764918, 213.54963779206204, 214.2230384654627, 214.87603305785123, 215.50862156922764, 216.1208039995919, 216.712580348944, 217.28395061728398, 217.83491480461177, 218.36547291092742, 218.87562493623102, 219.3653708805224, 219.83471074380162, 220.28364452606874, 220.71217222732375, 221.1202938475666, 221.50800938679723, 221.87531884501578, 222.2222222222222, 222.5487195184165, 222.85481073359864, 223.14049586776864, 223.40577492092643, 223.65064789307215, 223.8751147842057, 224.0791755943271, 224.26283032343642, 224.42607897153354, 224.5689215386185, 224.69135802469137, 224.79338842975207, 224.87501275380063, 224.93623099683703, 224.9770431588613, 224.99744923987345, 224.99744923987345, 224.9770431588613, 224.93623099683703, 224.87501275380063, 224.79338842975207, 224.69135802469137, 224.5689215386185, 224.42607897153354, 224.26283032343642, 224.0791755943271, 223.8751147842057, 223.65064789307215, 223.40577492092643, 223.14049586776864, 222.85481073359864, 222.5487195184165, 222.2222222222222, 221.87531884501578, 221.50800938679723, 221.1202938475666, 220.71217222732375, 220.28364452606874, 219.83471074380162, 219.3653708805224, 218.87562493623102, 218.36547291092742, 217.83491480461177, 217.28395061728398, 216.712580348944, 216.1208039995919, 215.50862156922759, 214.87603305785123, 214.2230384654627, 213.54963779206204, 212.85583103764918, 212.14161820222424, 211.40699928578715, 210.65197428833793, 209.87654320987653, 209.08070605040302, 208.26446280991738, 207.42781348841956, 206.57075808590963, 205.69329660238753, 204.79542903785327, 203.8771553923069, 202.93847566574837, 201.97938985817774, 200.9998979695949, 200.00000000000003, 200.00000000000003, 200.9998979695949, 201.97938985817774, 202.93847566574837, 203.8771553923069, 204.79542903785327, 205.69329660238753, 206.57075808590963, 207.42781348841956, 208.26446280991738, 209.08070605040302, 209.87654320987653, 210.65197428833793, 211.40699928578715, 212.14161820222424, 212.85583103764918, 213.54963779206204, 214.2230384654627, 214.87603305785123, 215.50862156922764, 216.1208039995919, 216.712580348944, 217.28395061728398, 217.83491480461177, 218.36547291092742, 218.87562493623102, 219.3653708805224, 219.83471074380162, 220.28364452606874, 220.71217222732375, 221.1202938475666, 221.50800938679723, 221.87531884501578, 222.2222222222222, 222.5487195184165, 222.85481073359864, 223.14049586776864, 223.40577492092643, 223.65064789307215, 223.8751147842057, 224.0791755943271, 224.26283032343642, 224.42607897153354, 224.5689215386185, 224.69135802469137, 224.79338842975207, 224.87501275380063, 224.93623099683703, 224.9770431588613, 224.99744923987345, 224.99744923987345, 224.9770431588613, 224.93623099683703, 224.87501275380063, 224.79338842975207, 224.69135802469137, 224.5689215386185, 224.42607897153354, 224.26283032343642, 224.0791755943271, 223.8751147842057, 223.65064789307215, 223.40577492092643, 223.14049586776864, 222.85481073359864, 222.5487195184165, 222.2222222222222, 221.87531884501578, 221.50800938679723, 221.1202938475666, 220.71217222732375, 220.28364452606874, 219.83471074380162, 219.3653708805224, 218.87562493623102, 218.36547291092742, 217.83491480461177, 217.28395061728398, 216.712580348944, 216.1208039995919, 215.50862156922759, 214.87603305785123, 214.2230384654627, 213.54963779206204, 212.85583103764918, 212.14161820222424, 211.40699928578715, 210.65197428833793, 209.87654320987653, 209.08070605040302, 208.26446280991738, 207.42781348841956, 206.57075808590963, 205.69329660238753, 204.79542903785327, 203.8771553923069, 202.93847566574837, 201.97938985817774, 200.9998979695949, 200.00000000000003, 0.0, 0.9998979695949402, 1.97938985817774, 2.9384756657483915, 3.8771553923069066, 4.795429037853282, 5.693296602387515, 6.570758085909598, 7.427813488419548, 8.264462809917353, 9.080706050403023, 9.876543209876544, 10.651974288337922, 11.406999285787165, 12.141618202224265, 12.85583103764922, 13.549637792062033, 14.22303846546271, 14.876033057851238, 15.50862156922763, 16.120803999591878, 16.712580348943987, 17.28395061728395, 17.834914804611774, 18.365472910927455, 18.875624936231, 19.365370880522395, 19.83471074380165, 20.283644526068773, 20.71217222732374, 21.12029384756658, 21.508009386797262, 21.87531884501582, 22.222222222222225, 22.548719518416483, 22.854810733598615, 23.1404958677686, 23.40577492092644, 23.650647893072133, 23.875114784205692, 24.07917559432711, 24.262830323436383, 24.42607897153352, 24.568921538618508, 24.69135802469136, 24.79338842975207, 24.875012753800632, 24.936230996837057, 24.977043158861346, 24.99744923987348, 24.99744923987348, 24.977043158861346, 24.936230996837057, 24.875012753800632, 24.79338842975207, 24.69135802469136, 24.568921538618508, 24.42607897153352, 24.262830323436383, 24.07917559432711, 23.875114784205692, 23.650647893072133, 23.40577492092644, 23.1404958677686, 22.854810733598615, 22.548719518416483, 22.222222222222225, 21.87531884501582, 21.508009386797262, 21.12029384756658, 20.71217222732374, 20.283644526068773, 19.83471074380165, 19.365370880522395, 18.875624936231, 18.365472910927455, 17.83491480461178, 17.28395061728395, 16.712580348943987, 16.120803999591885, 15.508621569227627, 14.876033057851238, 14.223038465462713, 13.549637792062033, 12.855831037649223, 12.141618202224258, 11.406999285787165, 10.65197428833793, 9.87654320987654, 9.080706050403023, 8.264462809917362, 7.427813488419548, 6.570758085909605, 5.6932966023875045, 4.795429037853282, 3.8771553923069146, 2.9384756657483915, 1.97938985817774, 0.999897969594933, 0.0, 0.0, 0.9998979695949402, 1.97938985817774, 2.9384756657483915, 3.8771553923069066, 4.795429037853282, 5.693296602387515, 6.570758085909598, 7.427813488419548, 8.264462809917353, 9.080706050403023, 9.876543209876544, 10.651974288337922, 11.406999285787165, 12.141618202224265, 12.85583103764922, 13.549637792062033, 14.22303846546271, 14.876033057851238, 15.50862156922763, 16.120803999591878, 16.712580348943987, 17.28395061728395, 17.834914804611774, 18.365472910927455, 18.875624936231, 19.365370880522395, 19.83471074380165, 20.283644526068773, 20.71217222732374, 21.12029384756658, 21.508009386797262, 21.87531884501582, 22.222222222222225, 22.548719518416483, 22.854810733598615, 23.1404958677686, 23.40577492092644, 23.650647893072133, 23.875114784205692, 24.07917559432711, 24.262830323436383, 24.42607897153352, 24.568921538618508, 24.69135802469136, 24.79338842975207, 24.875012753800632, 24.936230996837057, 24.977043158861346, 24.99744923987348, 24.99744923987348, 24.977043158861346, 24.936230996837057, 24.875012753800632, 24.79338842975207, 24.69135802469136, 24.568921538618508, 24.42607897153352, 24.262830323436383, 24.07917559432711, 23.875114784205692, 23.650647893072133, 23.40577492092644, 23.1404958677686, 22.854810733598615, 22.548719518416483, 22.222222222222225, 21.87531884501582, 21.508009386797262, 21.12029384756658, 20.71217222732374, 20.283644526068773, 19.83471074380165, 19.365370880522395, 18.875624936231, 18.365472910927455, 17.83491480461178, 17.28395061728395, 16.712580348943987, 16.120803999591885, 15.508621569227627, 14.876033057851238, 14.223038465462713, 13.549637792062033, 12.855831037649223, 12.141618202224258, 11.406999285787165, 10.65197428833793, 9.87654320987654, 9.080706050403023, 8.264462809917362, 7.427813488419548, 6.570758085909605, 5.6932966023875045, 4.795429037853282, 3.8771553923069146, 2.9384756657483915, 1.97938985817774, 0.999897969594933, 0.0], \"z\": [-70.71067811865476, -69.45515142429167, -68.18862654877452, -66.91137511108134, -65.62366549050881, -64.32576294703848, -63.01792973733291, -61.70042522659203, -60.373505996486834, -59.03742594937516, -57.69243640899251, -56.33878621780067, -54.97672183116642, -53.60648740853384, -52.22832490174436, -50.84247414065135, -49.44917291616786, -48.048657060879385, -46.641160527346976, -45.22691546421945, -43.80615229026813, -42.37909976645203, -40.945985066116044, -39.50703384342059, -38.06247030009593, -36.612517250611305, -35.157396185843965, -33.69732733533077, -32.232529728180594, -30.76322125272359, -29.28961871496949, -27.81193789594532, -26.330393607979513, -24.84519974999766, -23.356569361892554, -21.864714678029266, -20.3698471799442, -18.872177648294983, -17.371916214116936, -15.869272409439771, -14.364455217317412, -12.857673121322103, -11.349134154553058, -9.839045948209034, -8.327615779772863, -6.8150506208556445, -5.301557184747252, -3.7873419737195224, -2.272611326127561, -0.7575714633546146, 0.7575714633546146, 2.272611326127561, 3.7873419737195224, 5.301557184747252, 6.815050620855631, 8.327615779772863, 9.839045948209034, 11.349134154553058, 12.85767312132209, 14.364455217317412, 15.869272409439771, 17.371916214116936, 18.872177648294976, 20.36984717994419, 21.864714678029266, 23.356569361892554, 24.84519974999767, 26.330393607979506, 27.811937895945313, 29.28961871496949, 30.76322125272359, 32.23252972818059, 33.69732733533076, 35.157396185843965, 36.612517250611305, 38.062470300095924, 39.50703384342058, 40.945985066116044, 42.37909976645203, 43.80615229026812, 45.22691546421945, 46.641160527346976, 48.04865706087937, 49.44917291616786, 50.84247414065135, 52.22832490174437, 53.60648740853384, 54.976721831166415, 56.338786217800674, 57.69243640899251, 59.03742594937515, 60.373505996486834, 61.70042522659202, 63.01792973733293, 64.32576294703848, 65.6236654905088, 66.91137511108134, 68.18862654877452, 69.45515142429169, 70.71067811865476, -70.71067811865476, -69.45515142429167, -68.18862654877452, -66.91137511108134, -65.62366549050881, -64.32576294703848, -63.01792973733291, -61.70042522659203, -60.373505996486834, -59.03742594937516, -57.69243640899251, -56.33878621780067, -54.97672183116642, -53.60648740853384, -52.22832490174436, -50.84247414065135, -49.44917291616786, -48.048657060879385, -46.641160527346976, -45.22691546421945, -43.80615229026813, -42.37909976645203, -40.945985066116044, -39.50703384342059, -38.06247030009593, -36.612517250611305, -35.157396185843965, -33.69732733533077, -32.232529728180594, -30.76322125272359, -29.28961871496949, -27.81193789594532, -26.330393607979513, -24.84519974999766, -23.356569361892554, -21.864714678029266, -20.3698471799442, -18.872177648294983, -17.371916214116936, -15.869272409439771, -14.364455217317412, -12.857673121322103, -11.349134154553058, -9.839045948209034, -8.327615779772863, -6.8150506208556445, -5.301557184747252, -3.7873419737195224, -2.272611326127561, -0.7575714633546146, 0.7575714633546146, 2.272611326127561, 3.7873419737195224, 5.301557184747252, 6.815050620855631, 8.327615779772863, 9.839045948209034, 11.349134154553058, 12.85767312132209, 14.364455217317412, 15.869272409439771, 17.371916214116936, 18.872177648294976, 20.36984717994419, 21.864714678029266, 23.356569361892554, 24.84519974999767, 26.330393607979506, 27.811937895945313, 29.28961871496949, 30.76322125272359, 32.23252972818059, 33.69732733533076, 35.157396185843965, 36.612517250611305, 38.062470300095924, 39.50703384342058, 40.945985066116044, 42.37909976645203, 43.80615229026812, 45.22691546421945, 46.641160527346976, 48.04865706087937, 49.44917291616786, 50.84247414065135, 52.22832490174437, 53.60648740853384, 54.976721831166415, 56.338786217800674, 57.69243640899251, 59.03742594937515, 60.373505996486834, 61.70042522659202, 63.01792973733293, 64.32576294703848, 65.6236654905088, 66.91137511108134, 68.18862654877452, 69.45515142429169, 70.71067811865476, -0.0, -4.898739969652749, -6.750315714378595, -8.05153726970908, -9.049671312902925, -9.843250798859367, -10.484216177518025, -11.004276001818274, -11.424662970597483, -11.760536752692317, -12.023245355820096, -12.221598687174895, -12.362637298288575, -12.45212228653133, -12.494861443290318, -12.494934344471183, -12.45585246000751, -12.380676009270896, -12.27210116108884, -12.132526375540186, -11.964103743972611, -11.768779325133554, -11.548325267820806, -11.304365706554885, -11.03839786976245, -10.751809460388959, -10.445893100777699, -10.121858441252803, -9.780842391726784, -9.42391783223796, -9.052101081053275, -8.666358340581837, -8.267611296758655, -7.856742013183861, -7.434597234564594, -7.00199219303699, -6.559713994375019, -6.10852464790738, -5.649163793405706, -5.18235116970522, -4.708788862939112, -4.229163366677327, -3.7441474817034197, -3.2544020794410544, -2.7605777499997393, -2.263316353327135, -1.763252489937754, -1.2610149060614508, -0.7572278467617368, -0.2525123695697275, 0.2525123695697275, 0.7572278467617368, 1.2610149060614508, 1.763252489937754, 2.2633163533271308, 2.7605777499997393, 3.2544020794410544, 3.7441474817034197, 4.229163366677324, 4.708788862939112, 5.18235116970522, 5.649163793405706, 6.1085246479073785, 6.559713994375017, 7.00199219303699, 7.434597234564594, 7.8567420131838634, 8.267611296758654, 8.666358340581834, 9.052101081053275, 9.42391783223796, 9.780842391726782, 10.121858441252801, 10.445893100777699, 10.751809460388959, 11.038397869762449, 11.304365706554885, 11.548325267820806, 11.768779325133554, 11.964103743972611, 12.132526375540186, 12.27210116108884, 12.380676009270895, 12.45585246000751, 12.494934344471183, 12.494861443290318, 12.45212228653133, 12.362637298288577, 12.221598687174895, 12.023245355820096, 11.760536752692321, 11.424662970597483, 11.004276001818278, 10.484216177518016, 9.843250798859367, 9.049671312902932, 8.05153726970908, 6.750315714378595, 4.898739969652733, 0.0, -0.0, -4.898739969652749, -6.750315714378595, -8.05153726970908, -9.049671312902925, -9.843250798859367, -10.484216177518025, -11.004276001818274, -11.424662970597483, -11.760536752692317, -12.023245355820096, -12.221598687174895, -12.362637298288575, -12.45212228653133, -12.494861443290318, -12.494934344471183, -12.45585246000751, -12.380676009270896, -12.27210116108884, -12.132526375540186, -11.964103743972611, -11.768779325133554, -11.548325267820806, -11.304365706554885, -11.03839786976245, -10.751809460388959, -10.445893100777699, -10.121858441252803, -9.780842391726784, -9.42391783223796, -9.052101081053275, -8.666358340581837, -8.267611296758655, -7.856742013183861, -7.434597234564594, -7.00199219303699, -6.559713994375019, -6.10852464790738, -5.649163793405706, -5.18235116970522, -4.708788862939112, -4.229163366677327, -3.7441474817034197, -3.2544020794410544, -2.7605777499997393, -2.263316353327135, -1.763252489937754, -1.2610149060614508, -0.7572278467617368, -0.2525123695697275, 0.2525123695697275, 0.7572278467617368, 1.2610149060614508, 1.763252489937754, 2.2633163533271308, 2.7605777499997393, 3.2544020794410544, 3.7441474817034197, 4.229163366677324, 4.708788862939112, 5.18235116970522, 5.649163793405706, 6.1085246479073785, 6.559713994375017, 7.00199219303699, 7.434597234564594, 7.8567420131838634, 8.267611296758654, 8.666358340581834, 9.052101081053275, 9.42391783223796, 9.780842391726782, 10.121858441252801, 10.445893100777699, 10.751809460388959, 11.038397869762449, 11.304365706554885, 11.548325267820806, 11.768779325133554, 11.964103743972611, 12.132526375540186, 12.27210116108884, 12.380676009270895, 12.45585246000751, 12.494934344471183, 12.494861443290318, 12.45212228653133, 12.362637298288577, 12.221598687174895, 12.023245355820096, 11.760536752692321, 11.424662970597483, 11.004276001818278, 10.484216177518016, 9.843250798859367, 9.049671312902932, 8.05153726970908, 6.750315714378595, 4.898739969652733, 0.0]}],\n",
              "                        {\"coloraxis\": {\"colorbar\": {\"title\": {\"text\": \"Y\"}}, \"colorscale\": [[0.0, \"#0d0887\"], [0.1111111111111111, \"#46039f\"], [0.2222222222222222, \"#7201a8\"], [0.3333333333333333, \"#9c179e\"], [0.4444444444444444, \"#bd3786\"], [0.5555555555555556, \"#d8576b\"], [0.6666666666666666, \"#ed7953\"], [0.7777777777777778, \"#fb9f3a\"], [0.8888888888888888, \"#fdca26\"], [1.0, \"#f0f921\"]]}, \"legend\": {\"tracegroupgap\": 0}, \"margin\": {\"t\": 60}, \"scene\": {\"domain\": {\"x\": [0.0, 1.0], \"y\": [0.0, 1.0]}, \"xaxis\": {\"title\": {\"text\": \"X1_Square\"}}, \"yaxis\": {\"title\": {\"text\": \"X1_Square\"}}, \"zaxis\": {\"title\": {\"text\": \"X1*X2\"}}}, \"template\": {\"data\": {\"bar\": [{\"error_x\": {\"color\": \"#2a3f5f\"}, \"error_y\": {\"color\": \"#2a3f5f\"}, \"marker\": {\"line\": {\"color\": \"#E5ECF6\", \"width\": 0.5}}, \"type\": \"bar\"}], \"barpolar\": [{\"marker\": {\"line\": {\"color\": \"#E5ECF6\", \"width\": 0.5}}, \"type\": \"barpolar\"}], \"carpet\": [{\"aaxis\": {\"endlinecolor\": \"#2a3f5f\", \"gridcolor\": \"white\", \"linecolor\": \"white\", \"minorgridcolor\": \"white\", \"startlinecolor\": \"#2a3f5f\"}, \"baxis\": {\"endlinecolor\": \"#2a3f5f\", \"gridcolor\": \"white\", \"linecolor\": \"white\", \"minorgridcolor\": \"white\", \"startlinecolor\": \"#2a3f5f\"}, \"type\": \"carpet\"}], \"choropleth\": [{\"colorbar\": {\"outlinewidth\": 0, \"ticks\": \"\"}, \"type\": \"choropleth\"}], \"contour\": [{\"colorbar\": {\"outlinewidth\": 0, \"ticks\": \"\"}, \"colorscale\": [[0.0, \"#0d0887\"], [0.1111111111111111, \"#46039f\"], [0.2222222222222222, \"#7201a8\"], [0.3333333333333333, \"#9c179e\"], [0.4444444444444444, \"#bd3786\"], [0.5555555555555556, \"#d8576b\"], [0.6666666666666666, \"#ed7953\"], [0.7777777777777778, \"#fb9f3a\"], [0.8888888888888888, \"#fdca26\"], [1.0, \"#f0f921\"]], \"type\": \"contour\"}], \"contourcarpet\": [{\"colorbar\": {\"outlinewidth\": 0, \"ticks\": \"\"}, \"type\": \"contourcarpet\"}], \"heatmap\": [{\"colorbar\": {\"outlinewidth\": 0, \"ticks\": \"\"}, \"colorscale\": [[0.0, \"#0d0887\"], [0.1111111111111111, \"#46039f\"], [0.2222222222222222, \"#7201a8\"], [0.3333333333333333, \"#9c179e\"], [0.4444444444444444, \"#bd3786\"], [0.5555555555555556, \"#d8576b\"], [0.6666666666666666, \"#ed7953\"], [0.7777777777777778, \"#fb9f3a\"], [0.8888888888888888, \"#fdca26\"], [1.0, \"#f0f921\"]], \"type\": \"heatmap\"}], \"heatmapgl\": [{\"colorbar\": {\"outlinewidth\": 0, \"ticks\": \"\"}, \"colorscale\": [[0.0, \"#0d0887\"], [0.1111111111111111, \"#46039f\"], [0.2222222222222222, \"#7201a8\"], [0.3333333333333333, \"#9c179e\"], [0.4444444444444444, \"#bd3786\"], [0.5555555555555556, \"#d8576b\"], [0.6666666666666666, \"#ed7953\"], [0.7777777777777778, \"#fb9f3a\"], [0.8888888888888888, \"#fdca26\"], [1.0, \"#f0f921\"]], \"type\": \"heatmapgl\"}], \"histogram\": [{\"marker\": {\"colorbar\": {\"outlinewidth\": 0, \"ticks\": \"\"}}, \"type\": \"histogram\"}], \"histogram2d\": [{\"colorbar\": {\"outlinewidth\": 0, \"ticks\": \"\"}, \"colorscale\": [[0.0, \"#0d0887\"], [0.1111111111111111, \"#46039f\"], [0.2222222222222222, \"#7201a8\"], [0.3333333333333333, \"#9c179e\"], [0.4444444444444444, \"#bd3786\"], [0.5555555555555556, \"#d8576b\"], [0.6666666666666666, \"#ed7953\"], [0.7777777777777778, \"#fb9f3a\"], [0.8888888888888888, \"#fdca26\"], [1.0, \"#f0f921\"]], \"type\": \"histogram2d\"}], \"histogram2dcontour\": [{\"colorbar\": {\"outlinewidth\": 0, \"ticks\": \"\"}, \"colorscale\": [[0.0, \"#0d0887\"], [0.1111111111111111, \"#46039f\"], [0.2222222222222222, \"#7201a8\"], [0.3333333333333333, \"#9c179e\"], [0.4444444444444444, \"#bd3786\"], [0.5555555555555556, \"#d8576b\"], [0.6666666666666666, \"#ed7953\"], [0.7777777777777778, \"#fb9f3a\"], [0.8888888888888888, \"#fdca26\"], [1.0, \"#f0f921\"]], \"type\": \"histogram2dcontour\"}], \"mesh3d\": [{\"colorbar\": {\"outlinewidth\": 0, \"ticks\": \"\"}, \"type\": \"mesh3d\"}], \"parcoords\": [{\"line\": {\"colorbar\": {\"outlinewidth\": 0, \"ticks\": \"\"}}, \"type\": \"parcoords\"}], \"pie\": [{\"automargin\": true, \"type\": \"pie\"}], \"scatter\": [{\"marker\": {\"colorbar\": {\"outlinewidth\": 0, \"ticks\": \"\"}}, \"type\": \"scatter\"}], \"scatter3d\": [{\"line\": {\"colorbar\": {\"outlinewidth\": 0, \"ticks\": \"\"}}, \"marker\": {\"colorbar\": {\"outlinewidth\": 0, \"ticks\": \"\"}}, \"type\": \"scatter3d\"}], \"scattercarpet\": [{\"marker\": {\"colorbar\": {\"outlinewidth\": 0, \"ticks\": \"\"}}, \"type\": \"scattercarpet\"}], \"scattergeo\": [{\"marker\": {\"colorbar\": {\"outlinewidth\": 0, \"ticks\": \"\"}}, \"type\": \"scattergeo\"}], \"scattergl\": [{\"marker\": {\"colorbar\": {\"outlinewidth\": 0, \"ticks\": \"\"}}, \"type\": \"scattergl\"}], \"scattermapbox\": [{\"marker\": {\"colorbar\": {\"outlinewidth\": 0, \"ticks\": \"\"}}, \"type\": \"scattermapbox\"}], \"scatterpolar\": [{\"marker\": {\"colorbar\": {\"outlinewidth\": 0, \"ticks\": \"\"}}, \"type\": \"scatterpolar\"}], \"scatterpolargl\": [{\"marker\": {\"colorbar\": {\"outlinewidth\": 0, \"ticks\": \"\"}}, \"type\": \"scatterpolargl\"}], \"scatterternary\": [{\"marker\": {\"colorbar\": {\"outlinewidth\": 0, \"ticks\": \"\"}}, \"type\": \"scatterternary\"}], \"surface\": [{\"colorbar\": {\"outlinewidth\": 0, \"ticks\": \"\"}, \"colorscale\": [[0.0, \"#0d0887\"], [0.1111111111111111, \"#46039f\"], [0.2222222222222222, \"#7201a8\"], [0.3333333333333333, \"#9c179e\"], [0.4444444444444444, \"#bd3786\"], [0.5555555555555556, \"#d8576b\"], [0.6666666666666666, \"#ed7953\"], [0.7777777777777778, \"#fb9f3a\"], [0.8888888888888888, \"#fdca26\"], [1.0, \"#f0f921\"]], \"type\": \"surface\"}], \"table\": [{\"cells\": {\"fill\": {\"color\": \"#EBF0F8\"}, \"line\": {\"color\": \"white\"}}, \"header\": {\"fill\": {\"color\": \"#C8D4E3\"}, \"line\": {\"color\": \"white\"}}, \"type\": \"table\"}]}, \"layout\": {\"annotationdefaults\": {\"arrowcolor\": \"#2a3f5f\", \"arrowhead\": 0, \"arrowwidth\": 1}, \"coloraxis\": {\"colorbar\": {\"outlinewidth\": 0, \"ticks\": \"\"}}, \"colorscale\": {\"diverging\": [[0, \"#8e0152\"], [0.1, \"#c51b7d\"], [0.2, \"#de77ae\"], [0.3, \"#f1b6da\"], [0.4, \"#fde0ef\"], [0.5, \"#f7f7f7\"], [0.6, \"#e6f5d0\"], [0.7, \"#b8e186\"], [0.8, \"#7fbc41\"], [0.9, \"#4d9221\"], [1, \"#276419\"]], \"sequential\": [[0.0, \"#0d0887\"], [0.1111111111111111, \"#46039f\"], [0.2222222222222222, \"#7201a8\"], [0.3333333333333333, \"#9c179e\"], [0.4444444444444444, \"#bd3786\"], [0.5555555555555556, \"#d8576b\"], [0.6666666666666666, \"#ed7953\"], [0.7777777777777778, \"#fb9f3a\"], [0.8888888888888888, \"#fdca26\"], [1.0, \"#f0f921\"]], \"sequentialminus\": [[0.0, \"#0d0887\"], [0.1111111111111111, \"#46039f\"], [0.2222222222222222, \"#7201a8\"], [0.3333333333333333, \"#9c179e\"], [0.4444444444444444, \"#bd3786\"], [0.5555555555555556, \"#d8576b\"], [0.6666666666666666, \"#ed7953\"], [0.7777777777777778, \"#fb9f3a\"], [0.8888888888888888, \"#fdca26\"], [1.0, \"#f0f921\"]]}, \"colorway\": [\"#636efa\", \"#EF553B\", \"#00cc96\", \"#ab63fa\", \"#FFA15A\", \"#19d3f3\", \"#FF6692\", \"#B6E880\", \"#FF97FF\", \"#FECB52\"], \"font\": {\"color\": \"#2a3f5f\"}, \"geo\": {\"bgcolor\": \"white\", \"lakecolor\": \"white\", \"landcolor\": \"#E5ECF6\", \"showlakes\": true, \"showland\": true, \"subunitcolor\": \"white\"}, \"hoverlabel\": {\"align\": \"left\"}, \"hovermode\": \"closest\", \"mapbox\": {\"style\": \"light\"}, \"paper_bgcolor\": \"white\", \"plot_bgcolor\": \"#E5ECF6\", \"polar\": {\"angularaxis\": {\"gridcolor\": \"white\", \"linecolor\": \"white\", \"ticks\": \"\"}, \"bgcolor\": \"#E5ECF6\", \"radialaxis\": {\"gridcolor\": \"white\", \"linecolor\": \"white\", \"ticks\": \"\"}}, \"scene\": {\"xaxis\": {\"backgroundcolor\": \"#E5ECF6\", \"gridcolor\": \"white\", \"gridwidth\": 2, \"linecolor\": \"white\", \"showbackground\": true, \"ticks\": \"\", \"zerolinecolor\": \"white\"}, \"yaxis\": {\"backgroundcolor\": \"#E5ECF6\", \"gridcolor\": \"white\", \"gridwidth\": 2, \"linecolor\": \"white\", \"showbackground\": true, \"ticks\": \"\", \"zerolinecolor\": \"white\"}, \"zaxis\": {\"backgroundcolor\": \"#E5ECF6\", \"gridcolor\": \"white\", \"gridwidth\": 2, \"linecolor\": \"white\", \"showbackground\": true, \"ticks\": \"\", \"zerolinecolor\": \"white\"}}, \"shapedefaults\": {\"line\": {\"color\": \"#2a3f5f\"}}, \"ternary\": {\"aaxis\": {\"gridcolor\": \"white\", \"linecolor\": \"white\", \"ticks\": \"\"}, \"baxis\": {\"gridcolor\": \"white\", \"linecolor\": \"white\", \"ticks\": \"\"}, \"bgcolor\": \"#E5ECF6\", \"caxis\": {\"gridcolor\": \"white\", \"linecolor\": \"white\", \"ticks\": \"\"}}, \"title\": {\"x\": 0.05}, \"xaxis\": {\"automargin\": true, \"gridcolor\": \"white\", \"linecolor\": \"white\", \"ticks\": \"\", \"title\": {\"standoff\": 15}, \"zerolinecolor\": \"white\", \"zerolinewidth\": 2}, \"yaxis\": {\"automargin\": true, \"gridcolor\": \"white\", \"linecolor\": \"white\", \"ticks\": \"\", \"title\": {\"standoff\": 15}, \"zerolinecolor\": \"white\", \"zerolinewidth\": 2}}}},\n",
              "                        {\"responsive\": true}\n",
              "                    ).then(function(){\n",
              "                            \n",
              "var gd = document.getElementById('071adb13-4c38-49b1-a316-d8c97aafd2ba');\n",
              "var x = new MutationObserver(function (mutations, observer) {{\n",
              "        var display = window.getComputedStyle(gd).display;\n",
              "        if (!display || display === 'none') {{\n",
              "            console.log([gd, 'removed!']);\n",
              "            Plotly.purge(gd);\n",
              "            observer.disconnect();\n",
              "        }}\n",
              "}});\n",
              "\n",
              "// Listen for the removal of the full notebook cells\n",
              "var notebookContainer = gd.closest('#notebook-container');\n",
              "if (notebookContainer) {{\n",
              "    x.observe(notebookContainer, {childList: true});\n",
              "}}\n",
              "\n",
              "// Listen for the clearing of the current output cell\n",
              "var outputEl = gd.closest('.output');\n",
              "if (outputEl) {{\n",
              "    x.observe(outputEl, {childList: true});\n",
              "}}\n",
              "\n",
              "                        })\n",
              "                };\n",
              "                \n",
              "            </script>\n",
              "        </div>\n",
              "</body>\n",
              "</html>"
            ]
          },
          "metadata": {
            "tags": []
          }
        }
      ]
    },
    {
      "cell_type": "code",
      "metadata": {
        "colab": {
          "base_uri": "https://localhost:8080/"
        },
        "id": "71uhB6sSWTMC",
        "outputId": "0d67b629-d9e2-4dfc-85fc-1abf36f2afd5"
      },
      "source": [
        "classifier = SVC(kernel=\"linear\")\n",
        "classifier.fit(X_train, y_train)\n",
        "y_pred = classifier.predict(X_test)\n",
        "accuracy_score(y_test, y_pred)*100"
      ],
      "execution_count": 20,
      "outputs": [
        {
          "output_type": "execute_result",
          "data": {
            "text/plain": [
              "100.0"
            ]
          },
          "metadata": {
            "tags": []
          },
          "execution_count": 20
        }
      ]
    },
    {
      "cell_type": "markdown",
      "metadata": {
        "id": "jsm59x87WX9u"
      },
      "source": [
        "So, even a polynomial kernel works well and does a good job in classifying this simple scatter plot, with 100% accuracy!"
      ]
    }
  ]
}