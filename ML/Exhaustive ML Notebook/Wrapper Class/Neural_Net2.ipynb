{
  "nbformat": 4,
  "nbformat_minor": 0,
  "metadata": {
    "colab": {
      "name": "Neural_Net2.ipynb",
      "provenance": []
    },
    "kernelspec": {
      "name": "python3",
      "display_name": "Python 3"
    },
    "language_info": {
      "name": "python"
    }
  },
  "cells": [
    {
      "cell_type": "markdown",
      "metadata": {
        "id": "ofHPgGBmi1q4"
      },
      "source": [
        "##Implementation of Neural Network using Numpy:\n",
        "\n"
      ]
    },
    {
      "cell_type": "code",
      "metadata": {
        "id": "xSiK0cG_jEUn"
      },
      "source": [
        "# Creating the data set using numpy array of 0s and 1s.\n",
        "\n",
        "# As the image is a collection of pixel values in matrix, we will create those matrix of pixel for A, B, C.\n",
        "  \n",
        "# A\n",
        "a =[0, 0, 1, 1, 0, 0,\n",
        "   0, 1, 0, 0, 1, 0,\n",
        "   1, 1, 1, 1, 1, 1,\n",
        "   1, 0, 0, 0, 0, 1,\n",
        "   1, 0, 0, 0, 0, 1]\n",
        "# B\n",
        "b =[0, 1, 1, 1, 1, 0,\n",
        "   0, 1, 0, 0, 1, 0,\n",
        "   0, 1, 1, 1, 1, 0,\n",
        "   0, 1, 0, 0, 1, 0,\n",
        "   0, 1, 1, 1, 1, 0]\n",
        "# C\n",
        "c =[0, 1, 1, 1, 1, 0,\n",
        "   0, 1, 0, 0, 0, 0,\n",
        "   0, 1, 0, 0, 0, 0,\n",
        "   0, 1, 0, 0, 0, 0,\n",
        "   0, 1, 1, 1, 1, 0]\n",
        "  \n",
        "# Creating labels\n",
        "y =[[1, 0, 0],\n",
        "   [0, 1, 0],\n",
        "   [0, 0, 1]]"
      ],
      "execution_count": null,
      "outputs": []
    },
    {
      "cell_type": "code",
      "metadata": {
        "colab": {
          "base_uri": "https://localhost:8080/",
          "height": 265
        },
        "id": "_RpcKKoajMDa",
        "outputId": "a40516a8-f7ba-4b45-d80f-a875dfa9b510"
      },
      "source": [
        "import numpy as np\n",
        "import matplotlib.pyplot as plt\n",
        "# visualizing the data, ploting A.\n",
        "plt.imshow(np.array(a).reshape(5, 6))\n",
        "plt.show()"
      ],
      "execution_count": null,
      "outputs": [
        {
          "output_type": "display_data",
          "data": {
            "image/png": "[encoded data removed]",
            "text/plain": [
              "<Figure size 432x288 with 1 Axes>"
            ]
          },
          "metadata": {
            "tags": [],
            "needs_background": "light"
          }
        }
      ]
    },
    {
      "cell_type": "code",
      "metadata": {
        "colab": {
          "base_uri": "https://localhost:8080/"
        },
        "id": "gGnT059gjUwL",
        "outputId": "bad10cf8-a33d-4cef-b7db-80106d4e5fc9"
      },
      "source": [
        "# converting data and labels into numpy array\n",
        "  \n",
        "\n",
        "# Convert the matrix of 0 and 1 into one hot vector, where all the elements in the vector are zero except for one of them,  \n",
        "# so that we can directly feed it to the neural network,\n",
        "# these vectors are then stored in a list x.\n",
        "\n",
        "  \n",
        "x =[np.array(a).reshape(1, 30), np.array(b).reshape(1, 30), \n",
        "                                np.array(c).reshape(1, 30)]\n",
        "  \n",
        "  \n",
        "# Labels are also converted into NumPy array\n",
        "y = np.array(y)\n",
        "  \n",
        "  \n",
        "print(x, \"\\n\\n\", y)"
      ],
      "execution_count": null,
      "outputs": [
        {
          "output_type": "stream",
          "text": [
            "[array([[0, 0, 1, 1, 0, 0, 0, 1, 0, 0, 1, 0, 1, 1, 1, 1, 1, 1, 1, 0, 0, 0,\n",
            "        0, 1, 1, 0, 0, 0, 0, 1]]), array([[0, 1, 1, 1, 1, 0, 0, 1, 0, 0, 1, 0, 0, 1, 1, 1, 1, 0, 0, 1, 0, 0,\n",
            "        1, 0, 0, 1, 1, 1, 1, 0]]), array([[0, 1, 1, 1, 1, 0, 0, 1, 0, 0, 0, 0, 0, 1, 0, 0, 0, 0, 0, 1, 0, 0,\n",
            "        0, 0, 0, 1, 1, 1, 1, 0]])] \n",
            "\n",
            " [[1 0 0]\n",
            " [0 1 0]\n",
            " [0 0 1]]\n"
          ],
          "name": "stdout"
        }
      ]
    },
    {
      "cell_type": "markdown",
      "metadata": {
        "id": "OmeOPbyVafnN"
      },
      "source": [
        "Defining the architecture of the neural net:\n",
        "- 1st layer: Input layer(1, 30)\n",
        "- 2nd layer: Hidden layer (1, 5)\n",
        "- 3rd layer: Output layer(1, 3)"
      ]
    },
    {
      "cell_type": "code",
      "metadata": {
        "id": "WfirdfeUjaqo"
      },
      "source": [
        "# defining and using the activation function\n",
        "  \n",
        "def sigmoid(x):\n",
        "    return(1/(1 + np.exp(-x)))\n",
        "    \n",
        "# Creating the Feed forward neural network\n",
        "# 1 Input layer(1, 30)\n",
        "# 1 hidden layer (1, 5)\n",
        "# 1 output layer(3, 3)\n",
        "  \n",
        "def f_forward(x, w1, w2):\n",
        "    # hidden\n",
        "    z1 = x.dot(w1)# input from layer 1 \n",
        "    a1 = sigmoid(z1)# out put of layer 2 \n",
        "      \n",
        "    # Output layer\n",
        "    z2 = a1.dot(w2) # input of output layer\n",
        "    a2 = sigmoid(z2) # output of output layer\n",
        "    return(a2)\n",
        "   \n",
        "# initializing the weights randomly\n",
        "def generate_wt(x, y):\n",
        "    l =[]\n",
        "    for i in range(x * y):\n",
        "        l.append(np.random.randn())\n",
        "    return(np.array(l).reshape(x, y))\n",
        "      \n",
        "# for loss we will be using mean square error(MSE)\n",
        "def loss(out, Y):\n",
        "    s =(np.square(out-Y))\n",
        "    s = np.sum(s)/len(y)\n",
        "    return(s)\n",
        "    \n",
        "# Back propagation of error \n",
        "def back_prop(x, y, w1, w2, alpha):\n",
        "      \n",
        "    # hidden layer\n",
        "    z1 = x.dot(w1)# input from layer 1 \n",
        "    a1 = sigmoid(z1)# output of layer 2 \n",
        "      \n",
        "    # Output layer\n",
        "    z2 = a1.dot(w2)# input of out layer\n",
        "    a2 = sigmoid(z2)# output of out layer\n",
        "    # error in output layer\n",
        "    d2 =(a2-y)\n",
        "    d1 = np.multiply((w2.dot((d2.transpose()))).transpose(), \n",
        "                                   (np.multiply(a1, 1-a1)))\n",
        "  \n",
        "    # Gradient for w1 and w2\n",
        "    w1_adj = x.transpose().dot(d1)\n",
        "    w2_adj = a1.transpose().dot(d2)\n",
        "      \n",
        "    # Updating parameters\n",
        "    w1 = w1-(alpha*(w1_adj))\n",
        "    w2 = w2-(alpha*(w2_adj))\n",
        "      \n",
        "    return(w1, w2)\n",
        "  \n",
        "def train(x, Y, w1, w2, alpha = 0.01, epoch = 10):\n",
        "    acc =[]\n",
        "    losss =[]\n",
        "    for j in range(epoch):\n",
        "        l =[]\n",
        "        for i in range(len(x)):\n",
        "            out = f_forward(x[i], w1, w2)\n",
        "            l.append((loss(out, Y[i])))\n",
        "            w1, w2 = back_prop(x[i], y[i], w1, w2, alpha)\n",
        "        print(\"epochs:\", j + 1, \"======== acc:\", (1-(sum(l)/len(x)))*100)   \n",
        "        acc.append((1-(sum(l)/len(x)))*100)\n",
        "        losss.append(sum(l)/len(x))\n",
        "    return(acc, losss, w1, w2)\n",
        "   \n",
        "def predict(x, w1, w2):\n",
        "    Out = f_forward(x, w1, w2)\n",
        "    maxm = 0\n",
        "    k = 0\n",
        "    for i in range(len(Out[0])):\n",
        "        if(maxm<Out[0][i]):\n",
        "            maxm = Out[0][i]\n",
        "            k = i\n",
        "    if(k == 0):\n",
        "        print(\"Image is of letter A.\")\n",
        "    elif(k == 1):\n",
        "        print(\"Image is of letter B.\")\n",
        "    else:\n",
        "        print(\"Image is of letter C.\")\n",
        "    plt.imshow(x.reshape(5, 6))\n",
        "    plt.show()    "
      ],
      "execution_count": null,
      "outputs": []
    },
    {
      "cell_type": "code",
      "metadata": {
        "colab": {
          "base_uri": "https://localhost:8080/"
        },
        "id": "IKUpVNyQjs5C",
        "outputId": "369a5144-bdc6-493a-b1ab-b8b6a4fbb3d2"
      },
      "source": [
        "# Initializing the weights, as the neural network is having 3 layers, \n",
        "# so there will be 2 weight matrix associate with it.\n",
        "# The size of each matrix depends on the number of nodes in two connecting layers.\n",
        "w1 = generate_wt(30, 5)\n",
        "w2 = generate_wt(5, 3)\n",
        "print(w1, \"\\n\\n\", w2)"
      ],
      "execution_count": null,
      "outputs": [
        {
          "output_type": "stream",
          "text": [
            "[[-8.94174859e-01  7.70445524e-01 -4.75869591e-01  9.26058313e-01\n",
            "   1.91294007e-01]\n",
            " [ 7.57149399e-01  1.53629631e-01  6.79246040e-01 -4.45551880e-01\n",
            "   2.70796725e-01]\n",
            " [ 1.53931479e+00 -1.28512871e+00 -9.27824949e-01 -9.53356362e-01\n",
            "   4.30554656e-01]\n",
            " [ 5.13271249e-01  3.15697726e-01  3.25783050e-01 -9.13726166e-01\n",
            "   8.55531428e-01]\n",
            " [ 1.12234462e+00  8.40565625e-01  5.14167333e-01 -1.05098553e-01\n",
            "   1.29634605e+00]\n",
            " [ 2.85761676e+00  1.23271654e+00 -4.19722332e-02  5.68569058e-01\n",
            "  -9.20542877e-01]\n",
            " [-1.31276439e+00 -3.55073172e-01  1.67270160e-01 -5.63417468e-01\n",
            "   1.22636396e+00]\n",
            " [ 1.13586215e+00 -1.29356701e+00 -1.43006600e+00  5.33926510e-01\n",
            "   1.23678193e+00]\n",
            " [ 1.54468680e+00 -5.82095584e-01 -5.23331348e-01 -2.27303479e+00\n",
            "   9.17918253e-02]\n",
            " [ 2.91732022e-02 -1.45116236e+00  2.10905349e+00  6.17883839e-01\n",
            "  -1.72084411e+00]\n",
            " [ 2.74170877e-02  5.38416720e-01  9.09432879e-01  7.55457951e-01\n",
            "  -2.89030164e-01]\n",
            " [ 3.33689404e-01  1.01272403e-01  1.96706668e-01 -1.53482746e+00\n",
            "  -2.43218941e-01]\n",
            " [ 3.71188180e-01 -1.54184321e-01  5.58075188e-01 -1.61711182e-01\n",
            "   7.08397394e-01]\n",
            " [-2.27863911e-01 -1.14753684e+00 -2.00128586e+00 -8.40890540e-01\n",
            "  -1.68443063e-01]\n",
            " [ 1.12011492e+00  6.35032818e-01 -1.35455406e-01  1.02732332e+00\n",
            "  -1.14033345e+00]\n",
            " [ 7.93833297e-01  5.27637787e-01 -7.73796603e-03 -1.08850025e+00\n",
            "  -1.36040734e+00]\n",
            " [-7.76712193e-01 -7.11807087e-01 -1.09771495e+00 -6.39217900e-01\n",
            "  -3.94350195e-01]\n",
            " [-6.96150546e-02  8.53267603e-02  1.99711286e+00  3.48206198e-01\n",
            "  -4.45547989e-01]\n",
            " [ 4.02048874e-01  1.13762041e+00 -1.34408726e-01  1.56356445e+00\n",
            "  -2.01615031e-01]\n",
            " [-7.98706420e-01 -5.89948759e-01  3.55019806e-01 -6.06886335e-01\n",
            "   1.54738420e-03]\n",
            " [-3.59449163e-01 -6.23230169e-01  2.59232444e-01  7.41712867e-01\n",
            "  -2.26964783e-01]\n",
            " [ 3.69818738e-02  4.16960007e-01  1.09661777e+00 -1.25942500e+00\n",
            "   3.96064023e-01]\n",
            " [ 1.13653693e+00 -6.15176466e-01  1.65286932e+00  7.30629902e-01\n",
            "  -9.45184182e-01]\n",
            " [-2.14856491e-01 -1.26051446e+00 -1.59636107e+00 -2.11511445e+00\n",
            "   2.75905725e-01]\n",
            " [-7.73543738e-01 -7.70232755e-01  7.37200505e-01 -8.18521375e-01\n",
            "   4.52944716e-01]\n",
            " [-3.42641410e-01  1.29001370e+00  7.94965732e-01  3.79436644e-01\n",
            "  -9.77894911e-01]\n",
            " [ 8.40034037e-01  5.78968812e-01  1.17109297e-01 -1.82141576e+00\n",
            "  -1.20570789e+00]\n",
            " [ 7.80328584e-01 -6.04486983e-01  1.02706031e+00 -4.09351083e-01\n",
            "  -2.76782995e-01]\n",
            " [-5.20708441e-01  1.65453897e+00  6.40464047e-03  1.53223269e+00\n",
            "  -1.13438306e+00]\n",
            " [-4.47728111e-01 -6.00159905e-01  2.97484964e-01 -1.21376277e+00\n",
            "   1.14367096e+00]] \n",
            "\n",
            " [[ 0.89301463 -0.40972942 -1.47128792]\n",
            " [-0.04311533 -0.39093727 -1.14506076]\n",
            " [-0.59188406  0.49606096  0.20033574]\n",
            " [-1.86986468  1.93804414  1.3475173 ]\n",
            " [ 0.20816428 -0.37183622 -0.53186976]]\n"
          ],
          "name": "stdout"
        }
      ]
    },
    {
      "cell_type": "code",
      "metadata": {
        "colab": {
          "base_uri": "https://localhost:8080/"
        },
        "id": "7SmOEcP2j4c6",
        "outputId": "e4cd8545-e2e4-46c9-f5ea-f6a6f8d57a85"
      },
      "source": [
        "## \"\"The arguments of train function are data set list x, \n",
        "##correct labels y, weights w1, w2, learning rate = 0.1, \n",
        "## no of epochs or iteration.The function will return the\n",
        "##matrix of accuracy and loss and also the matrix of \n",
        "##trained weights w1, w2\"\"\"\n",
        "  \n",
        "acc, losss, w1, w2 = train(x, y, w1, w2, 0.3, 100)"
      ],
      "execution_count": null,
      "outputs": [
        {
          "output_type": "stream",
          "text": [
            "epochs: 1 ======== acc: 74.29948870642092\n",
            "epochs: 2 ======== acc: 78.69403805668217\n",
            "epochs: 3 ======== acc: 81.43387406823129\n",
            "epochs: 4 ======== acc: 83.32011037431225\n",
            "epochs: 5 ======== acc: 84.23124757861886\n",
            "epochs: 6 ======== acc: 85.02507763719058\n",
            "epochs: 7 ======== acc: 85.79701917924704\n",
            "epochs: 8 ======== acc: 86.5147704047966\n",
            "epochs: 9 ======== acc: 87.17857092042914\n",
            "epochs: 10 ======== acc: 87.791626789493\n",
            "epochs: 11 ======== acc: 88.36056744452198\n",
            "epochs: 12 ======== acc: 88.89706228332312\n",
            "epochs: 13 ======== acc: 89.41543746750223\n",
            "epochs: 14 ======== acc: 89.92796562227245\n",
            "epochs: 15 ======== acc: 90.4417930637726\n",
            "epochs: 16 ======== acc: 90.95899222922881\n",
            "epochs: 17 ======== acc: 91.4782643386153\n",
            "epochs: 18 ======== acc: 91.99660216330429\n",
            "epochs: 19 ======== acc: 92.5103540220865\n",
            "epochs: 20 ======== acc: 93.01582296546297\n",
            "epochs: 21 ======== acc: 93.50962195334044\n",
            "epochs: 22 ======== acc: 93.98889075105959\n",
            "epochs: 23 ======== acc: 94.45138492314501\n",
            "epochs: 24 ======== acc: 94.89540745660383\n",
            "epochs: 25 ======== acc: 95.31955622478317\n",
            "epochs: 26 ======== acc: 95.72231085671127\n",
            "epochs: 27 ======== acc: 96.10160907526267\n",
            "epochs: 28 ======== acc: 96.45474413953782\n",
            "epochs: 29 ======== acc: 96.77893291156057\n",
            "epochs: 30 ======== acc: 97.0724324830884\n",
            "epochs: 31 ======== acc: 97.33539338996631\n",
            "epochs: 32 ======== acc: 97.56974735923694\n",
            "epochs: 33 ======== acc: 97.77838645776788\n",
            "epochs: 34 ======== acc: 97.96436939936076\n",
            "epochs: 35 ======== acc: 98.13050703676049\n",
            "epochs: 36 ======== acc: 98.27924900510871\n",
            "epochs: 37 ======== acc: 98.41270278086806\n",
            "epochs: 38 ======== acc: 98.53268550636939\n",
            "epochs: 39 ======== acc: 98.64077276843882\n",
            "epochs: 40 ======== acc: 98.73833724262201\n",
            "epochs: 41 ======== acc: 98.82657862667722\n",
            "epochs: 42 ======== acc: 98.90654745144147\n",
            "epochs: 43 ======== acc: 98.97916471347426\n",
            "epochs: 44 ======== acc: 99.04523853127617\n",
            "epochs: 45 ======== acc: 99.1054785275236\n",
            "epochs: 46 ======== acc: 99.16050835753097\n",
            "epochs: 47 ======== acc: 99.21087665769068\n",
            "epochs: 48 ======== acc: 99.25706661446286\n",
            "epochs: 49 ======== acc: 99.29950431724318\n",
            "epochs: 50 ======== acc: 99.33856603736282\n",
            "epochs: 51 ======== acc: 99.37458456100326\n",
            "epochs: 52 ======== acc: 99.40785469174484\n",
            "epochs: 53 ======== acc: 99.43863802722859\n",
            "epochs: 54 ======== acc: 99.46716710356917\n",
            "epochs: 55 ======== acc: 99.49364899074837\n",
            "epochs: 56 ======== acc: 99.51826841239075\n",
            "epochs: 57 ======== acc: 99.54119045422144\n",
            "epochs: 58 ======== acc: 99.56256291722374\n",
            "epochs: 59 ======== acc: 99.58251836408343\n",
            "epochs: 60 ======== acc: 99.60117590091994\n",
            "epochs: 61 ======== acc: 99.61864273052088\n",
            "epochs: 62 ======== acc: 99.63501550825288\n",
            "epochs: 63 ======== acc: 99.65038152745136\n",
            "epochs: 64 ======== acc: 99.66481975731857\n",
            "epochs: 65 ======== acc: 99.67840175311348\n",
            "epochs: 66 ======== acc: 99.6911924556319\n",
            "epochs: 67 ======== acc: 99.70325089458709\n",
            "epochs: 68 ======== acc: 99.71463080845824\n",
            "epochs: 69 ======== acc: 99.72538119162519\n",
            "epochs: 70 ======== acc: 99.73554677811245\n",
            "epochs: 71 ======== acc: 99.74516846998503\n",
            "epochs: 72 ======== acc: 99.7542837173439\n",
            "epochs: 73 ======== acc: 99.76292685592959\n",
            "epochs: 74 ======== acc: 99.77112940753878\n",
            "epochs: 75 ======== acc: 99.77892034776757\n",
            "epochs: 76 ======== acc: 99.78632634500254\n",
            "epochs: 77 ======== acc: 99.79337197407064\n",
            "epochs: 78 ======== acc: 99.80007990751926\n",
            "epochs: 79 ======== acc: 99.80647108711952\n",
            "epochs: 80 ======== acc: 99.81256487785826\n",
            "epochs: 81 ======== acc: 99.81837920640196\n",
            "epochs: 82 ======== acc: 99.82393068577018\n",
            "epochs: 83 ======== acc: 99.8292347277447\n",
            "epochs: 84 ======== acc: 99.8343056443549\n",
            "epochs: 85 ======== acc: 99.83915673962059\n",
            "epochs: 86 ======== acc: 99.8438003925935\n",
            "epochs: 87 ======== acc: 99.84824813261606\n",
            "epochs: 88 ======== acc: 99.85251070761106\n",
            "epochs: 89 ======== acc: 99.85659814612123\n",
            "epochs: 90 ======== acc: 99.86051981373716\n",
            "epochs: 91 ======== acc: 99.8642844644803\n",
            "epochs: 92 ======== acc: 99.86790028764446\n",
            "epochs: 93 ======== acc: 99.87137495054431\n",
            "epochs: 94 ======== acc: 99.87471563757099\n",
            "epochs: 95 ======== acc: 99.87792908591112\n",
            "epochs: 96 ======== acc: 99.8810216182484\n",
            "epochs: 97 ======== acc: 99.88399917273289\n",
            "epochs: 98 ======== acc: 99.88686733047368\n",
            "epochs: 99 ======== acc: 99.88963134078416\n",
            "epochs: 100 ======== acc: 99.89229614438553\n"
          ],
          "name": "stdout"
        }
      ]
    },
    {
      "cell_type": "code",
      "metadata": {
        "colab": {
          "base_uri": "https://localhost:8080/",
          "height": 541
        },
        "id": "ZpfJBepskOKP",
        "outputId": "32284fcd-f570-4829-d2cf-f6dd7b928238"
      },
      "source": [
        "import matplotlib.pyplot as plt1\n",
        "  \n",
        "# ploting accuraccy\n",
        "plt1.plot(acc)\n",
        "plt1.ylabel('Accuracy')\n",
        "plt1.xlabel(\"Epochs:\")\n",
        "plt1.show()\n",
        "  \n",
        "# plotting Loss\n",
        "plt1.plot(losss)\n",
        "plt1.ylabel('Loss')\n",
        "plt1.xlabel(\"Epochs:\")\n",
        "plt1.show()"
      ],
      "execution_count": null,
      "outputs": [
        {
          "output_type": "display_data",
          "data": {
            "image/png": "[encoded data removed]",
            "text/plain": [
              "<Figure size 432x288 with 1 Axes>"
            ]
          },
          "metadata": {
            "tags": [],
            "needs_background": "light"
          }
        },
        {
          "output_type": "display_data",
          "data": {
            "image/png": "[encoded data removed]",
            "text/plain": [
              "<Figure size 432x288 with 1 Axes>"
            ]
          },
          "metadata": {
            "tags": [],
            "needs_background": "light"
          }
        }
      ]
    },
    {
      "cell_type": "code",
      "metadata": {
        "colab": {
          "base_uri": "https://localhost:8080/"
        },
        "id": "7cgbP3dmkUzi",
        "outputId": "0de284db-950c-4a45-b6bc-23281ba58925"
      },
      "source": [
        "# the trained weigths are\n",
        "print(w1, \"\\n\", w2)"
      ],
      "execution_count": null,
      "outputs": [
        {
          "output_type": "stream",
          "text": [
            "[[-0.89417486  0.77044552 -0.47586959  0.92605831  0.19129401]\n",
            " [ 0.67583563 -0.26496212  1.19178745  0.33139728  0.4283589 ]\n",
            " [ 1.58286006 -1.36843661 -0.72085893 -0.48482816  0.90407704]\n",
            " [ 0.55681652  0.23238982  0.53274907 -0.44519796  1.32905381]\n",
            " [ 1.04103086  0.42197388  1.02670874  0.67185061  1.45390823]\n",
            " [ 2.85761676  1.23271654 -0.04197223  0.56856906 -0.92054288]\n",
            " [-1.31276439 -0.35507317  0.16727016 -0.56341747  1.22636396]\n",
            " [ 1.17940742 -1.37687492 -1.22309998  1.00245471  1.71030431]\n",
            " [ 1.5446868  -0.58209558 -0.52333135 -2.27303479  0.09179183]\n",
            " [ 0.0291732  -1.45116236  2.10905349  0.61788384 -1.72084411]\n",
            " [ 0.15368623  1.910425    0.65020459  0.72136108 -0.77015742]\n",
            " [ 0.3336894   0.1012724   0.19670667 -1.53482746 -0.24321894]\n",
            " [ 0.49604722  0.18109953  0.2524998  -0.47013214  1.02435759]\n",
            " [-0.18431864 -1.23084475 -1.79431984 -0.37236234  0.30507932]\n",
            " [ 1.24638406  2.0070411  -0.3946837   0.99322645 -1.6214607 ]\n",
            " [ 0.92010244  1.89964607 -0.26696626 -1.12259712 -1.8415346 ]\n",
            " [-0.65044305  0.66020119 -1.35694325 -0.67331477 -0.87547745]\n",
            " [ 0.05524398  0.42061061  1.69153747  0.03978524 -0.12958779]\n",
            " [ 0.52690791  1.47290425 -0.43998411  1.25514349  0.11434517]\n",
            " [-0.88002018 -1.00854051  0.86756121  0.17006283  0.15910956]\n",
            " [-0.35944916 -0.62323017  0.25923244  0.74171287 -0.22696478]\n",
            " [ 0.03698187  0.41696001  1.09661777 -1.259425    0.39606402]\n",
            " [ 1.13794704  0.42154797  1.69921641  1.004954   -1.74227164]\n",
            " [-0.08999745 -0.92523061 -1.90193646 -2.42353541  0.59186593]\n",
            " [-0.6486847  -0.43494891  0.43162512 -1.12694234  0.76890492]\n",
            " [-0.42395517  0.87142195  1.30750714  1.15638581 -0.82033273]\n",
            " [ 0.75872027  0.16037706  0.62965071 -1.0444666  -1.04814571]\n",
            " [ 0.69901482 -1.02307873  1.53960172  0.36759808 -0.11922082]\n",
            " [-0.60202221  1.23594722  0.51894605  2.30918185 -0.97682088]\n",
            " [-0.32286907 -0.26487606 -0.00809042 -1.52218373  1.45963116]] \n",
            " [[ 1.35951978 -1.57466968 -2.25725893]\n",
            " [ 0.37891987  1.83815516 -4.31678245]\n",
            " [-3.23034059  0.68187363  1.41190499]\n",
            " [-3.78884273  2.34770778  1.83191226]\n",
            " [ 1.79608447 -4.88296816  2.32562408]]\n"
          ],
          "name": "stdout"
        }
      ]
    },
    {
      "cell_type": "code",
      "metadata": {
        "colab": {
          "base_uri": "https://localhost:8080/",
          "height": 283
        },
        "id": "Q7XxE5LikZqC",
        "outputId": "8022ac26-9e6c-4dc0-9866-fb7cd6b12f4e"
      },
      "source": [
        "predict(x[1], w1, w2)\n"
      ],
      "execution_count": null,
      "outputs": [
        {
          "output_type": "stream",
          "text": [
            "Image is of letter B.\n"
          ],
          "name": "stdout"
        },
        {
          "output_type": "display_data",
          "data": {
            "image/png": "[encoded data removed]",
            "text/plain": [
              "<Figure size 432x288 with 1 Axes>"
            ]
          },
          "metadata": {
            "tags": [],
            "needs_background": "light"
          }
        }
      ]
    }
  ]
}